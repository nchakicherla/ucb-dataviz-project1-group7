#dependencies

# Dependencies and Setup
import matplotlib.pyplot as plt
import pandas as pd
import numpy as np
import requests
import time
from scipy.stats import linregress




#https://www.kaggle.com/code/imtkaggleteam/7-clustering-algorithm-mental-health/input
df_world_health = pd.read_csv("files/mental-illnesses-prevalence.csv")
df_world_health.head()


#https://www.kaggle.com/datasets/michellevp/predicting-anxiety-in-mental-health-data?resource=download&select=healthanxiety_dataset.csv
df_anxiety = pd.read_csv("files/healthanxiety_dataset.csv")
df_anxiety.head()   


#https://www.kaggle.com/datasets/kunal28chaturvedi/covid19-and-its-impact-on-students
df_student_survey = pd.read_csv("files/C_19_Stu_SR.csv")
df_student_survey.head()    



#https://www.tableau.com/learn/articles/free-public-data-sets


#https://www.kaggle.com/datasets/bhavikjikadara/mental-health-dataset
df_main = pd.read_csv("files/Mental-Health-Dataset.csv")
df_main.tail(30)    








df_new = pd.DataFrame(df_main)
df_new['Country'] = df_new['Country'].str.strip().str.lower()
df_new = df_new['Country'].value_counts()

print(f"Number of unique Countries: {df_new.count()}")
df_new.head(10)

df_main()






df_new_wh = pd.DataFrame(df_world_health)

df_new_wh['Entity'] = df_new_wh['Entity'].str.strip().str.lower()
df_new_wh = df_new_wh['Entity'].value_counts()      

# duplicates = df_new_wh.duplicated(subset=["Entity", "Year"], keep=False)
  

print(f"Number of unique Countries: {df_new_wh.count()}")
df_world_health.head(10)




#world happiness data WIP
#reading and writing data from csv

df_happy_15 = pd.read_csv("whr/WHR_2015.csv")
df_happy_16 = pd.read_csv("whr/WHR_2016.csv")
df_happy_17 = pd.read_csv("whr/WHR_2017.csv")  
df_happy_18 = pd.read_csv("whr/WHR_2018.csv")   
df_happy_19 = pd.read_csv("whr/WHR_2019.csv")   
df_happy_20 = pd.read_csv("whr/WHR_2020.csv")   
df_happy_21 = pd.read_csv("whr/WHR_2021.csv")   
df_happy_22 = pd.read_csv("whr/WHR_2022.csv")   
df_happy_23 = pd.read_csv("whr/WHR_2023.csv")   



#data exploration 
#use code below to check the data

# df_happy_15.head()
# df_happy_16.head()
# df_happy_17.head()
# df_happy_18.head()
# df_happy_19.head()
# df_happy_20.head()
# df_happy_21.head()
# df_happy_22.head()
# df_happy_23.head()

# df_happy_15.describe()
# df_happy_16.describe()
# df_happy_17.describe()
# df_happy_18.describe()
# df_happy_19.describe()
# df_happy_20.describe()
# df_happy_21.describe()
# df_happy_22.describe()
# df_happy_23.describe()

df_happy_15.info()
# df_happy_16.info()
# df_happy_17.info()
# df_happy_18.info()
# df_happy_19.info()
# df_happy_20.info()
# df_happy_21.info()
# df_happy_22.info()
# df_happy_23.info()

# df_happy_15.columns
# df_happy_16.columns
# df_happy_17.columns
# df_happy_18.columns
# df_happy_19.columns
# df_happy_20.columns
# df_happy_21.columns
# df_happy_22.columns
# df_happy_23.columns



#checking for missing values
# df_happy_15.isnull().sum() #no missing values
# df_happy_16.isnull().sum() #no missing values
# df_happy_17.isnull().sum() #no missing values
# df_happy_18.isnull().sum() #has missing values
# df_happy_19.isnull().sum() #no missing values
# df_happy_20.isnull().sum() #no missing values
# df_happy_21.isnull().sum() #no missing values
# df_happy_22.isnull().sum() #no missing values
# df_happy_23.isnull().sum() #has missing values




#drop nulls in 2018 and 2023
df_happy_18 = df_happy_18.dropna()
df_happy_23 = df_happy_23.dropna()




#add year column to each dataframe
df_happy_15['Year'] = 2015
df_happy_16['Year'] = 2016
df_happy_17['Year'] = 2017
df_happy_18['Year'] = 2018
df_happy_19['Year'] = 2019
df_happy_20['Year'] = 2020
df_happy_21['Year'] = 2021
df_happy_22['Year'] = 2022
df_happy_23['Year'] = 2023





#preview data with year included
df_happy_15.head()



#merge all dataframes around the year column
df_happy = pd.concat([df_happy_15, df_happy_16, df_happy_17, df_happy_18, df_happy_19, df_happy_20, df_happy_21, df_happy_22, df_happy_23], axis=0)
df_happy = df_happy.dropna()
df_happy.describe()
df_happy.info()
df_happy.head(10)





#filter rows based on happiness score >7.5
df_happy = df_happy[df_happy['happiness_score'] > 7.5]
df_happy.head(10)
df_happy.describe()
df_happy.info()
