import pandas as pd
from pathlib import Path
import matplotlib.pyplot as plt
import numpy as np


#https://www.kaggle.com/datasets/bhavikjikadara/mental-health-dataset
df_main = pd.read_csv("Mental-Health-Dataset.csv")
df_main.head()



num_rows = len(df_main)
print("Number of rows:", num_rows)


df_main.dtypes


#drop timestamp
df_main = df_main.drop(columns=['Timestamp'])


# Count number of rows with blank values
num_rows_with_blank_values = df_main.isna().any(axis=1).sum()

# Print the number of rows with blank values
print("Number of rows with blank values:", num_rows_with_blank_values)



# Drop rows with NaN values and create a new DataFrame
clean_df_main = df_main.dropna()

# Count number of rows in the cleaned DataFrame
clean_num_rows = len(clean_df_main)

# Print the number of rows
print("Number of rows in the cleaned DataFrame:", clean_num_rows)



print(clean_df_main.columns)







# Create a copy of the DataFrame
clean_df_main = clean_df_main.copy()

# Define a mapping dictionary (standard)
standard_mapping = {'Yes': 1, 'No': -1, 'Maybe': 0, 'Not sure': 0}

# Define the columns to be replaced and converted to integers
columns_to_convert = ['family_history', 'Growing_Stress', 'Changes_Habits', 'Coping_Struggles', 'Social_Weakness']

# Replace the values in the specified columns using .replace and .loc
clean_df_main.loc[:, columns_to_convert] = clean_df_main.loc[:, columns_to_convert].replace(standard_mapping)

# Convert the column dtypes to integer using .astype('Int64')
clean_df_main[columns_to_convert] = clean_df_main[columns_to_convert].astype('Int64')

# Map Mood_Swings values to numeric values
mood_mapping = {'Low': -1, 'Medium': 0, 'High': 1}

# Replace Mood_Swings values with numeric equivalents using .replace and .loc
clean_df_main.loc[:, 'Mood_Swings'] = clean_df_main.loc[:, 'Mood_Swings'].replace(mood_mapping)

# Convert the Mood_Swings column dtype to integer using .astype('Int64')
clean_df_main['Mood_Swings'] = clean_df_main['Mood_Swings'].astype('Int64')

# Map Work_Interest values to numeric values
work_interest_mapping = {'Yes': -1, 'No': 1, 'Maybe': 0}

# Replace Work_Interest values with numeric equivalents using .replace and .loc
clean_df_main.loc[:, 'Work_Interest'] = clean_df_main.loc[:, 'Work_Interest'].replace(work_interest_mapping)

# Convert the Work_Interest column dtype to integer using .astype('Int64')
clean_df_main['Work_Interest'] = clean_df_main['Work_Interest'].astype('Int64')

# Mental Health History values to numeric values
clean_df_main.loc[:,'Mental_Health_History'] = clean_df_main.loc[:, 'Mental_Health_History'].replace(standard_mapping)
clean_df_main['Mental_Health_History'] = clean_df_main['Mental_Health_History'].astype('Int64')



# Treatment values to numeric values
clean_df_main.loc[:,'treatment'] = clean_df_main.loc[:, 'treatment'].replace(standard_mapping)
clean_df_main['treatment'] = clean_df_main['treatment'].astype('Int64')


#change to lower case
clean_df_main.columns = clean_df_main.columns.str.lower()


# Display the updated DataFrame
print(clean_df_main.head())



# Count the number of rows in the DataFrame
num_rows = clean_df_main.shape[0]

# Print the number of rows
print("Number of rows:", num_rows)



# Copy the DataFrame
df_mh_factors = clean_df_main.copy()

# Create the 'mental_health_severity' feature
df_mh_factors['mental_health'] = (clean_df_main['growing_stress'] + 
                                           clean_df_main['changes_habits'] + 
                                           clean_df_main['mental_health_history'] + 
                                           clean_df_main['mood_swings'] + 
                                           clean_df_main['coping_struggles'] + 
                                           clean_df_main['work_interest'] + 
                                           clean_df_main['social_weakness'])

# Create the 'candidacy_rating' feature
df_mh_factors['candidacy_rating'] = (clean_df_main['family_history'] + 
                                     clean_df_main['treatment'] + 
                                     clean_df_main['growing_stress'] + 
                                     clean_df_main['changes_habits'] + 
                                     clean_df_main['mental_health_history'])

#additional feature
df_mh_factors['mental_health_severity'] = (clean_df_main['mood_swings'] + 
                                           clean_df_main['coping_struggles'] + 
                                           clean_df_main['work_interest'] + 
                                           clean_df_main['social_weakness'])



# Display the DataFrame to check the new features
print(df_mh_factors)


clean_df_main.dtypes


# Export DataFrame to a CSV file
clean_df_main.to_csv('clean_df_main.csv', index=False)
clean_df_main.head()

df_mh_factors.to_csv('df_factors.csv', index=False)
