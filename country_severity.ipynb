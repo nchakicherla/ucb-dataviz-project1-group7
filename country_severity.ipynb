{
 "cells": [
  {
   "cell_type": "markdown",
   "id": "5e7619e9-1e02-40d3-98b6-0433e798c86b",
   "metadata": {},
   "source": [
    "Differences in derived mental health severity scores between US and non-US samples\n",
    "\n",
    "Null hypothesis: There is no statistically significant difference between median mental health severity scores between US and non-US populations\n",
    "\n",
    "Alternate hypothesis: The median mental health severity of the US population is less than that of populations outside of the US.\n",
    "\n",
    "Results: The p-value obtained from our Mann-Whitney U-test exceeds our alpha value of 0.05, so we fail to reject our null hypothesis"
   ]
  },
  {
   "cell_type": "code",
   "execution_count": 1,
   "id": "ffed3b49-dcb1-41fd-bf46-68c16e1fe426",
   "metadata": {},
   "outputs": [],
   "source": [
    "## Import Python modules as appropriate\n",
    "\n",
    "from pathlib import Path\n",
    "from numpy import number\n",
    "import pandas as pd\n",
    "import pprint\n",
    "import scipy.stats as st\n",
    "import matplotlib.pyplot as plt"
   ]
  },
  {
   "cell_type": "code",
   "execution_count": 2,
   "id": "b4274969-4973-4f4d-a876-77aed6ac64e4",
   "metadata": {},
   "outputs": [],
   "source": [
    "## Establish path of initial .csv data and read into DataFrame\n",
    "\n",
    "csv_path = Path(\"./df_factors.csv\")\n",
    "orig_df = pd.read_csv(csv_path)"
   ]
  },
  {
   "cell_type": "code",
   "execution_count": 3,
   "id": "941b6460-17df-4437-b83e-25ecc6690d51",
   "metadata": {},
   "outputs": [
    {
     "name": "stdout",
     "output_type": "stream",
     "text": [
      "mental_health_severity   -6    -5    -4     -3     -2     -1      0      1  \\\n",
      "country                                                                      \n",
      "Australia                19    48   203    520    592   1010   1122   1026   \n",
      "Belgium                   3     5    28     67     85    130    158    134   \n",
      "Bosnia and Herzegovina    1     4    13     36     36     70     70     70   \n",
      "Brazil                    6    24    78    216    216    420    420    420   \n",
      "Canada                   53   149   590   1539   1701   2990   3242   3026   \n",
      "Colombia                  1     4    13     36     36     70     70     70   \n",
      "Costa Rica                1     4    13     36     36     70     70     70   \n",
      "Croatia                   1     4    13     36     36     70     70     70   \n",
      "Czech Republic            1     4    13     36     36     70     70     70   \n",
      "Denmark                   2     8    26     72     72    140    140    140   \n",
      "Finland                   1     4    13     36     36     70     70     70   \n",
      "France                    6    24    78    216    216    420    420    420   \n",
      "Georgia                   1     4    13     36     36     70     70     70   \n",
      "Germany                  12    48   156    432    432    840    840    840   \n",
      "Greece                    2     8    26     72     72    140    140    140   \n",
      "India                     8    25    93    247    265    480    508    484   \n",
      "Ireland                  16    50   186    494    530    960   1016    968   \n",
      "Israel                    4    16    52    144    144    280    280    280   \n",
      "Italy                     4    16    52    144    144    280    280    280   \n",
      "Mexico                    1     4    13     36     36     70     70     70   \n",
      "Moldova                   1     4    13     36     36     70     70     70   \n",
      "Netherlands              16    57   197    535    553   1040   1068   1044   \n",
      "New Zealand               6    17    67    175    193    340    368    344   \n",
      "Nigeria                   1     4    13     36     36     70     70     70   \n",
      "Philippines               1     4    13     36     36     70     70     70   \n",
      "Poland                    3     5    28     67     85    130    158    134   \n",
      "Portugal                  1     4    13     36     36     70     70     70   \n",
      "Russia                    2     8    26     72     72    140    140    140   \n",
      "Singapore                 2     8    26     72     72    140    140    140   \n",
      "South Africa              6    17    67    175    193    340    368    344   \n",
      "Sweden                    9    22    95    242    278    470    526    478   \n",
      "Switzerland               4    16    52    144    144    280    280    280   \n",
      "Thailand                  1     4    13     36     36     70     70     70   \n",
      "United Kingdom          144   464  1696   4528   4816   8800   9248   8864   \n",
      "United States           501  1451  5644  14797  16219  28750  30962  29066   \n",
      "\n",
      "mental_health_severity      2      3     4     5    6  n_points  \n",
      "country                                                          \n",
      "Australia                 683    496   205    87   15      6026  \n",
      "Belgium                    99     68    32    13    2       824  \n",
      "Bosnia and Herzegovina     41     32    11     5    1       390  \n",
      "Brazil                    246    192    66    30    6      2340  \n",
      "Canada                   1957   1444   574   247   44     17556  \n",
      "Colombia                   41     32    11     5    1       390  \n",
      "Costa Rica                 41     32    11     5    1       390  \n",
      "Croatia                    41     32    11     5    1       390  \n",
      "Czech Republic             41     32    11     5    1       390  \n",
      "Denmark                    82     64    22    10    2       780  \n",
      "Finland                    41     32    11     5    1       390  \n",
      "France                    246    192    66    30    6      2340  \n",
      "Georgia                    41     32    11     5    1       390  \n",
      "Germany                   492    384   132    60   12      4680  \n",
      "Greece                     82     64    22    10    2       780  \n",
      "India                     304    228    87    38    7      2774  \n",
      "Ireland                   608    456   174    76   14      5548  \n",
      "Israel                    164    128    44    20    4      1560  \n",
      "Italy                     164    128    44    20    4      1560  \n",
      "Mexico                     41     32    11     5    1       390  \n",
      "Moldova                    41     32    11     5    1       390  \n",
      "Netherlands               632    484   175    78   15      5894  \n",
      "New Zealand               222    164    65    28    5      1994  \n",
      "Nigeria                    41     32    11     5    1       390  \n",
      "Philippines                41     32    11     5    1       390  \n",
      "Poland                     99     68    32    13    2       824  \n",
      "Portugal                   41     32    11     5    1       390  \n",
      "Russia                     82     64    22    10    2       780  \n",
      "Singapore                  82     64    22    10    2       780  \n",
      "South Africa              222    164    65    28    5      1994  \n",
      "Sweden                    321    232    97    41    7      2818  \n",
      "Switzerland               164    128    44    20    4      1560  \n",
      "Thailand                   41     32    11     5    1       390  \n",
      "United Kingdom           5520   4160  1568   688  128     50624  \n",
      "United States           18645  13820  5432  2347  422    168056  \n"
     ]
    }
   ],
   "source": [
    "## 1. Create working_df breakout table by using groupby method and derived mental_health_severity factor\n",
    "\n",
    "working_df = orig_df.groupby(\"country\")[\"mental_health_severity\"].value_counts().unstack(fill_value=0)\n",
    "\n",
    "## 2. New column \"n_points\" is created to track total number of measurements per country\n",
    "working_df[\"n_points\"] = working_df.sum(axis=1)\n",
    "\n",
    "pprint.pp(working_df)"
   ]
  },
  {
   "cell_type": "code",
   "execution_count": 6,
   "id": "b1cf44cf-e293-454d-9237-67e763c2ac0c",
   "metadata": {},
   "outputs": [
    {
     "name": "stdout",
     "output_type": "stream",
     "text": [
      "                   country  severity\n",
      "0                Australia  6.050614\n",
      "1                  Belgium  6.103155\n",
      "2   Bosnia and Herzegovina  5.987179\n",
      "3                   Brazil  5.987179\n",
      "4                   Canada  6.036170\n",
      "5                 Colombia  5.987179\n",
      "6               Costa Rica  5.987179\n",
      "7                  Croatia  5.987179\n",
      "8           Czech Republic  5.987179\n",
      "9                  Denmark  5.987179\n",
      "10                 Finland  5.987179\n",
      "11                  France  5.987179\n",
      "12                 Georgia  5.987179\n",
      "13                 Germany  5.987179\n",
      "14                  Greece  5.987179\n",
      "15                   India  6.021629\n",
      "16                 Ireland  6.021629\n",
      "17                  Israel  5.987179\n",
      "18                   Italy  5.987179\n",
      "19                  Mexico  5.987179\n",
      "20                 Moldova  5.987179\n",
      "21             Netherlands  6.003393\n",
      "22             New Zealand  6.035105\n",
      "23                 Nigeria  5.987179\n",
      "24             Philippines  5.987179\n",
      "25                  Poland  6.103155\n",
      "26                Portugal  5.987179\n",
      "27                  Russia  5.987179\n",
      "28               Singapore  5.987179\n",
      "29            South Africa  6.035105\n",
      "30                  Sweden  6.055004\n",
      "31             Switzerland  5.987179\n",
      "32                Thailand  5.987179\n",
      "33          United Kingdom  6.017383\n",
      "34           United States  6.032102\n",
      "country     United States\n",
      "severity         6.103155\n",
      "dtype: object\n"
     ]
    }
   ],
   "source": [
    "## 1. Proportions of each mental health score measured per country are calculated by dividing # of occurrences of each integer value by n_points for the country.\n",
    "columns = working_df.columns.tolist()\n",
    "for elem in columns:\n",
    "    if elem in working_df.columns:\n",
    "        working_df_prop = working_df.div(working_df[elem], axis=0)\n",
    "\n",
    "## 2. For calculation of per-country mean mental health measurement, traverse range of possible integer values [-6 , 6] measured in each country. Ratios of each value are multiplied by value. and pushed to country_prop_dict.\n",
    "country_prop_dict = {}\n",
    "\n",
    "for country in working_df_prop.index:\n",
    "    country_weighted_total = 0;\n",
    "    for i in range(len(working_df_prop.loc[country]) - 1):\n",
    "\n",
    "        country_weighted_total += i * working_df_prop.loc[country].iloc[i]\n",
    "\n",
    "    country_prop_dict[country] = country_weighted_total\n",
    "    country_weighted_total = 0\n",
    "    \n",
    "## 3. Once totals are numerated in lookup dictionary, results_df is created with country and its mean weighted mental health severity score.\n",
    "results_df = pd.DataFrame(country_prop_dict.items(), columns=[\"country\", \"severity\"])\n",
    "pprint.pp(results_df)\n",
    "print(results_df.max(axis=0))"
   ]
  },
  {
   "cell_type": "code",
   "execution_count": 7,
   "id": "fa8076f4-b158-4d1e-afd8-7239368e3c25",
   "metadata": {},
   "outputs": [
    {
     "name": "stdout",
     "output_type": "stream",
     "text": [
      "Total # of data points: 287162\n"
     ]
    }
   ],
   "source": [
    "## 1. Calculate, store, and print total number of points for reference.\n",
    "\n",
    "n_points_list = working_df[\"n_points\"].to_list()\n",
    "results_df[\"n_points\"] = n_points_list\n",
    "\n",
    "n_points_total = results_df[\"n_points\"].sum(axis=0)\n",
    "print(\"Total # of data points: \" + str(n_points_total))\n",
    "\n",
    "## 2. Calculate ratio of measurements calculate in each country, as proportion of total number of points. This is to prevent exaggeration of measurements from low-count countries when summing for comparison with US.\n",
    "results_df[\"n_points_prop\"] = results_df[\"n_points\"].div(n_points_total, axis=0)"
   ]
  },
  {
   "cell_type": "code",
   "execution_count": 8,
   "id": "ba6be8f8-451e-48fb-bc99-d2290da9fb38",
   "metadata": {},
   "outputs": [
    {
     "name": "stdout",
     "output_type": "stream",
     "text": [
      "                   country  severity  n_points  n_points_prop  \\\n",
      "0                Australia  6.050614      6026       0.020985   \n",
      "1                  Belgium  6.103155       824       0.002869   \n",
      "2   Bosnia and Herzegovina  5.987179       390       0.001358   \n",
      "3                   Brazil  5.987179      2340       0.008149   \n",
      "4                   Canada  6.036170     17556       0.061136   \n",
      "5                 Colombia  5.987179       390       0.001358   \n",
      "6               Costa Rica  5.987179       390       0.001358   \n",
      "7                  Croatia  5.987179       390       0.001358   \n",
      "8           Czech Republic  5.987179       390       0.001358   \n",
      "9                  Denmark  5.987179       780       0.002716   \n",
      "10                 Finland  5.987179       390       0.001358   \n",
      "11                  France  5.987179      2340       0.008149   \n",
      "12                 Georgia  5.987179       390       0.001358   \n",
      "13                 Germany  5.987179      4680       0.016297   \n",
      "14                  Greece  5.987179       780       0.002716   \n",
      "15                   India  6.021629      2774       0.009660   \n",
      "16                 Ireland  6.021629      5548       0.019320   \n",
      "17                  Israel  5.987179      1560       0.005432   \n",
      "18                   Italy  5.987179      1560       0.005432   \n",
      "19                  Mexico  5.987179       390       0.001358   \n",
      "20                 Moldova  5.987179       390       0.001358   \n",
      "21             Netherlands  6.003393      5894       0.020525   \n",
      "22             New Zealand  6.035105      1994       0.006944   \n",
      "23                 Nigeria  5.987179       390       0.001358   \n",
      "24             Philippines  5.987179       390       0.001358   \n",
      "25                  Poland  6.103155       824       0.002869   \n",
      "26                Portugal  5.987179       390       0.001358   \n",
      "27                  Russia  5.987179       780       0.002716   \n",
      "28               Singapore  5.987179       780       0.002716   \n",
      "29            South Africa  6.035105      1994       0.006944   \n",
      "30                  Sweden  6.055004      2818       0.009813   \n",
      "31             Switzerland  5.987179      1560       0.005432   \n",
      "32                Thailand  5.987179       390       0.001358   \n",
      "33          United Kingdom  6.017383     50624       0.176291   \n",
      "34           United States  6.032102    168056       0.585231   \n",
      "\n",
      "    weighted_severity  \n",
      "0            0.126970  \n",
      "1            0.017513  \n",
      "2            0.008131  \n",
      "3            0.048788  \n",
      "4            0.369029  \n",
      "5            0.008131  \n",
      "6            0.008131  \n",
      "7            0.008131  \n",
      "8            0.008131  \n",
      "9            0.016263  \n",
      "10           0.008131  \n",
      "11           0.048788  \n",
      "12           0.008131  \n",
      "13           0.097576  \n",
      "14           0.016263  \n",
      "15           0.058169  \n",
      "16           0.116339  \n",
      "17           0.032525  \n",
      "18           0.032525  \n",
      "19           0.008131  \n",
      "20           0.008131  \n",
      "21           0.123220  \n",
      "22           0.041907  \n",
      "23           0.008131  \n",
      "24           0.008131  \n",
      "25           0.017513  \n",
      "26           0.008131  \n",
      "27           0.016263  \n",
      "28           0.016263  \n",
      "29           0.041907  \n",
      "30           0.059419  \n",
      "31           0.032525  \n",
      "32           0.008131  \n",
      "33           1.060809  \n",
      "34           3.530171  \n"
     ]
    }
   ],
   "source": [
    "## Establish new column in results_df which has mean severity rating for each country adjusted for its population as a proportion of n_points_total. Print updated table for reference.\n",
    "\n",
    "weighted_severity_list = results_df[\"severity\"].to_list()\n",
    "n_points_prop_list = results_df[\"n_points_prop\"].to_list()\n",
    "\n",
    "for i in range(len(weighted_severity_list)):\n",
    "    weighted_severity_list[i] = weighted_severity_list[i] * n_points_prop_list[i]\n",
    "\n",
    "results_df[\"weighted_severity\"] = weighted_severity_list\n",
    "pprint.pp(results_df)"
   ]
  },
  {
   "cell_type": "code",
   "execution_count": 46,
   "id": "7f1df36b-bc90-4564-b08b-00fe5a7afb2e",
   "metadata": {},
   "outputs": [],
   "source": [
    "## Since we know United States is the last row, we can find its severity directly. Non-US countries are enumerated using range.\n",
    "\n",
    "n_rows = len(results_df)\n",
    "\n",
    "us_severity = results_df.values[n_rows - 1][4]\n",
    "non_us_severity = 0\n",
    "\n",
    "for i in range(n_rows - 2):\n",
    "    non_us_severity += results_df.values[i][4]"
   ]
  },
  {
   "cell_type": "code",
   "execution_count": 11,
   "id": "60b9534e-a06a-4b05-86c7-c319e90b0977",
   "metadata": {},
   "outputs": [
    {
     "name": "stdout",
     "output_type": "stream",
     "text": [
      "              country  severity\n",
      "0       United States         2\n",
      "1       United States         2\n",
      "2              Poland         2\n",
      "3           Australia         2\n",
      "4       United States         2\n",
      "...               ...       ...\n",
      "287157  United States        -1\n",
      "287158   South Africa        -1\n",
      "287159  United States        -1\n",
      "287160  United States        -1\n",
      "287161  United States        -1\n",
      "\n",
      "[287162 rows x 2 columns]\n"
     ]
    }
   ],
   "source": [
    "## Establish new working DataFrame for statistical test. Print new DF for reference.\n",
    "\n",
    "country_score_slices_df = pd.DataFrame()\n",
    "country_score_slices_df[\"country\"] = orig_df[\"country\"].copy()\n",
    "country_score_slices_df[\"severity\"] = orig_df[\"mental_health_severity\"].copy()\n",
    "\n",
    "pprint.pp(country_score_slices_df)"
   ]
  },
  {
   "cell_type": "code",
   "execution_count": 10,
   "id": "44a64af8-717f-4622-8227-1a653003f0b4",
   "metadata": {},
   "outputs": [
    {
     "name": "stdout",
     "output_type": "stream",
     "text": [
      "US measurements:\n",
      "              country  severity\n",
      "0       United States         2\n",
      "1       United States         2\n",
      "4       United States         2\n",
      "5       United States         2\n",
      "6       United States         2\n",
      "...               ...       ...\n",
      "287156  United States        -1\n",
      "287157  United States        -1\n",
      "287159  United States        -1\n",
      "287160  United States        -1\n",
      "287161  United States        -1\n",
      "\n",
      "[168056 rows x 2 columns]\n",
      "Non-US measurements\n",
      "               country  severity\n",
      "2               Poland         2\n",
      "3            Australia         2\n",
      "10              Canada         2\n",
      "12      United Kingdom         2\n",
      "14        South Africa         2\n",
      "...                ...       ...\n",
      "287150          Canada        -1\n",
      "287153          Poland        -1\n",
      "287154         Ireland        -1\n",
      "287155       Australia        -1\n",
      "287158    South Africa        -1\n",
      "\n",
      "[119106 rows x 2 columns]\n"
     ]
    }
   ],
   "source": [
    "## Split working DF into DFs for US and non-US measurements. These will be the samples for statistical comparison test. Print split DFs for reference.\n",
    "\n",
    "us_df = country_score_slices_df[country_score_slices_df.country == \"United States\"]\n",
    "non_us_df = country_score_slices_df[country_score_slices_df.country != \"United States\"]\n",
    "\n",
    "print(\"US measurements:\")\n",
    "pprint.pp(us_df)\n",
    "print(\"Non-US measurements\")\n",
    "pprint.pp(non_us_df)"
   ]
  },
  {
   "cell_type": "code",
   "execution_count": 13,
   "id": "f510cd8a-8801-4ff9-8cdc-75ed226c7a69",
   "metadata": {},
   "outputs": [
    {
     "name": "stdout",
     "output_type": "stream",
     "text": [
      "us mean: 0.03210239443994859\n",
      "non-us mean: 0.018470941850116704\n"
     ]
    }
   ],
   "source": [
    "## Calculate and print mean severity scores for US and non US data points.\n",
    "\n",
    "us_avg = us_df[\"severity\"].mean()\n",
    "non_us_avg = non_us_df[\"severity\"].mean()\n",
    "print(\"us mean: \"+ str(us_avg))\n",
    "print(\"non-us mean: \" + str(non_us_avg))"
   ]
  },
  {
   "cell_type": "code",
   "execution_count": 26,
   "id": "7d9b6128-cc0b-43a2-be75-0ab861c41315",
   "metadata": {},
   "outputs": [
    {
     "name": "stdout",
     "output_type": "stream",
     "text": [
      "NormaltestResult(statistic=array([776.82465918]), pvalue=array([2.0638045e-169]))\n"
     ]
    }
   ],
   "source": [
    "## We test for normality within our US and non-US samples. Due to the resulting low p-value, we can't conclude that the underlying population distributions are normal. Print results for reference.\n",
    "\n",
    "us_severity_list = us_df[\"severity\"].to_list()\n",
    "non_us_severity_list = non_us_df[\"severity\"].to_list()\n",
    "\n",
    "print(st.normaltest(us_df[[\"severity\"]]))"
   ]
  },
  {
   "cell_type": "code",
   "execution_count": 24,
   "id": "dd4d1a50-3488-408a-a3ed-3d43886a1ae9",
   "metadata": {},
   "outputs": [
    {
     "name": "stdout",
     "output_type": "stream",
     "text": [
      "MannwhitneyuResult(statistic=10042512229.5, pvalue=0.9431702048590704)\n",
      "Test statistic: 10042512229.5\n",
      "P-value: 0.9431702048590704\n"
     ]
    }
   ],
   "source": [
    "# To establish a 95% confidence-level, alpha is set to 0.05. \n",
    "alpha = 0.05\n",
    "\n",
    "# One-sided Mann-Whitney U-test is performed due to large data set, derived nature of our calculated mental health factor, and lack of normality in our populations. Independence between datasets is known, and distributions have similar shapes as shown in histogram below.\n",
    "print(st.mannwhitneyu(us_severity_list, non_us_severity_list, alternative=\"less\", axis=0, nan_policy=\"raise\"))\n",
    "\n",
    "test_stat, p_value = st.mannwhitneyu(us_severity_list, non_us_severity_list, alternative=\"less\", axis=0, nan_policy=\"raise\")\n",
    "\n",
    "print(\"Test statistic: \" + str(test_stat))\n",
    "print(\"P-value: \" + str(p_value))\n",
    "\n",
    "## Mann-Whitney U-test tests for a difference in distribution or difference in median between populations. Because the shape of our sample data is similar for both datasets, the results of the test make inferences on a difference in median.\n",
    "##\n",
    "## The high p-value suggests that at our confidence level of 95%, we fail to reject the null-hypothesis, and conclude that there is no statistically significant difference in median mental health severity between US and non-US popualtions."
   ]
  },
  {
   "cell_type": "code",
   "execution_count": 25,
   "id": "46678374-5964-47c2-80af-50acee97647d",
   "metadata": {},
   "outputs": [
    {
     "name": "stdout",
     "output_type": "stream",
     "text": [
      "Fail to reject Null Hypothesis: P-value is greater than alpha, so we fail to reject our null hypothesis. There is no statistically significant difference between mental health severity of US vs non-US populations\n"
     ]
    }
   ],
   "source": [
    "if p_value < alpha:\n",
    "    print(\"Reject Null Hypothesis: P-value is less than alpha, so null-hypothesis is rejected. There is a statistically significant difference between median mental health severity of US and non-US populations.\")\n",
    "else:\n",
    "    print(\"Fail to reject Null Hypothesis: P-value is greater than alpha, so we fail to reject our null hypothesis. There is no statistically significant difference between median mental health severity of US vs non-US populations\")"
   ]
  },
  {
   "cell_type": "code",
   "execution_count": 61,
   "id": "004b100f-9076-40ae-978a-5d9e0a544ce6",
   "metadata": {},
   "outputs": [
    {
     "data": {
      "image/png": "[encoded data removed]",
      "text/plain": [
       "<Figure size 640x480 with 1 Axes>"
      ]
     },
     "metadata": {},
     "output_type": "display_data"
    }
   ],
   "source": [
    "## Create histogram representing distribution of mental health severity scores for US and non-US samples.\n",
    "plt.hist(us_severity_list, bins=12, edgecolor=\"black\", color=\"dodgerblue\", alpha=0.7, label=\"US severity ratings\")\n",
    "plt.hist(non_us_severity_list, bins=12, edgecolor=\"black\", color=\"tomato\", alpha=0.7, label=\"Non-US severity ratings\")\n",
    "\n",
    "## Establish labels for axes and legend for differentiation of plotted distributions.\n",
    "plt.xlabel(\"Mental Health Severity Metric\")\n",
    "plt.ylabel(\"# of Measurements\")\n",
    "plt.title(\"Comparison of US and non-US Mental Health Severity Scores\")\n",
    "\n",
    "## Render graphic.\n",
    "plt.legend(title=\"Mental Health Severity of US and non-US samples\", fontsize=\"small\")\n",
    "plt.show()"
   ]
  },
  {
   "cell_type": "code",
   "execution_count": 28,
   "id": "5d7248a8-f577-4633-a663-8f797e3e4d05",
   "metadata": {},
   "outputs": [
    {
     "data": {
      "image/png": "[encoded data removed]",
      "text/plain": [
       "<Figure size 640x480 with 1 Axes>"
      ]
     },
     "metadata": {},
     "output_type": "display_data"
    }
   ],
   "source": [
    "## Create side-by-side violin plots representing distribution of mental health severity scores for US and non-US samples. Plots show similar comparison as histrogram but more specificity. Not as helpful due to ordinal nature of measurements.\n",
    "fig, ax = plt.subplots()\n",
    "\n",
    "parts = ax.violinplot([us_severity_list, non_us_severity_list], showmeans=False, showmedians=True)\n",
    "\n",
    "## Apply similar colors as histogram.\n",
    "colors = ['skyblue', 'salmon', 'lightgreen']\n",
    "for i, pc in enumerate(parts['bodies']):\n",
    "    pc.set_facecolor(colors[i])\n",
    "\n",
    "## Apply labels to different plots.\n",
    "ax.set_xlabel('Dataset')\n",
    "ax.set_ylabel('Severity Score')\n",
    "ax.set_title('Customized Violin Plots')\n",
    "\n",
    "## Customize x-axis labels to differentiate populations.\n",
    "ax.set_xticks([1, 2])\n",
    "ax.set_xticklabels(['US Measurements', 'Non-US Measurements'])\n",
    "\n",
    "## Render graphic.\n",
    "plt.show()"
   ]
  }
 ],
 "metadata": {
  "kernelspec": {
   "display_name": "Python 3 (ipykernel)",
   "language": "python",
   "name": "python3"
  },
  "language_info": {
   "codemirror_mode": {
    "name": "ipython",
    "version": 3
   },
   "file_extension": ".py",
   "mimetype": "text/x-python",
   "name": "python",
   "nbconvert_exporter": "python",
   "pygments_lexer": "ipython3",
   "version": "3.12.3"
  }
 },
 "nbformat": 4,
 "nbformat_minor": 5
}
