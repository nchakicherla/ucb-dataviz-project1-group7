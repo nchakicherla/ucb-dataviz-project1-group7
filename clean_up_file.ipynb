{
 "cells": [
  {
   "cell_type": "code",
   "execution_count": 36,
   "metadata": {},
   "outputs": [],
   "source": [
    "import pandas as pd\n",
    "from pathlib import Path\n",
    "import matplotlib.pyplot as plt\n",
    "import numpy as np"
   ]
  },
  {
   "cell_type": "code",
   "execution_count": 37,
   "metadata": {},
   "outputs": [
    {
     "data": {
      "text/html": [
       "<div>\n",
       "<style scoped>\n",
       "    .dataframe tbody tr th:only-of-type {\n",
       "        vertical-align: middle;\n",
       "    }\n",
       "\n",
       "    .dataframe tbody tr th {\n",
       "        vertical-align: top;\n",
       "    }\n",
       "\n",
       "    .dataframe thead th {\n",
       "        text-align: right;\n",
       "    }\n",
       "</style>\n",
       "<table border=\"1\" class=\"dataframe\">\n",
       "  <thead>\n",
       "    <tr style=\"text-align: right;\">\n",
       "      <th></th>\n",
       "      <th>Timestamp</th>\n",
       "      <th>Gender</th>\n",
       "      <th>Country</th>\n",
       "      <th>Occupation</th>\n",
       "      <th>self_employed</th>\n",
       "      <th>family_history</th>\n",
       "      <th>treatment</th>\n",
       "      <th>Days_Indoors</th>\n",
       "      <th>Growing_Stress</th>\n",
       "      <th>Changes_Habits</th>\n",
       "      <th>Mental_Health_History</th>\n",
       "      <th>Mood_Swings</th>\n",
       "      <th>Coping_Struggles</th>\n",
       "      <th>Work_Interest</th>\n",
       "      <th>Social_Weakness</th>\n",
       "      <th>mental_health_interview</th>\n",
       "      <th>care_options</th>\n",
       "    </tr>\n",
       "  </thead>\n",
       "  <tbody>\n",
       "    <tr>\n",
       "      <th>0</th>\n",
       "      <td>8/27/2014 11:29</td>\n",
       "      <td>Female</td>\n",
       "      <td>United States</td>\n",
       "      <td>Corporate</td>\n",
       "      <td>NaN</td>\n",
       "      <td>No</td>\n",
       "      <td>Yes</td>\n",
       "      <td>1-14 days</td>\n",
       "      <td>Yes</td>\n",
       "      <td>No</td>\n",
       "      <td>Yes</td>\n",
       "      <td>Medium</td>\n",
       "      <td>No</td>\n",
       "      <td>No</td>\n",
       "      <td>Yes</td>\n",
       "      <td>No</td>\n",
       "      <td>Not sure</td>\n",
       "    </tr>\n",
       "    <tr>\n",
       "      <th>1</th>\n",
       "      <td>8/27/2014 11:31</td>\n",
       "      <td>Female</td>\n",
       "      <td>United States</td>\n",
       "      <td>Corporate</td>\n",
       "      <td>NaN</td>\n",
       "      <td>Yes</td>\n",
       "      <td>Yes</td>\n",
       "      <td>1-14 days</td>\n",
       "      <td>Yes</td>\n",
       "      <td>No</td>\n",
       "      <td>Yes</td>\n",
       "      <td>Medium</td>\n",
       "      <td>No</td>\n",
       "      <td>No</td>\n",
       "      <td>Yes</td>\n",
       "      <td>No</td>\n",
       "      <td>No</td>\n",
       "    </tr>\n",
       "    <tr>\n",
       "      <th>2</th>\n",
       "      <td>8/27/2014 11:32</td>\n",
       "      <td>Female</td>\n",
       "      <td>United States</td>\n",
       "      <td>Corporate</td>\n",
       "      <td>NaN</td>\n",
       "      <td>Yes</td>\n",
       "      <td>Yes</td>\n",
       "      <td>1-14 days</td>\n",
       "      <td>Yes</td>\n",
       "      <td>No</td>\n",
       "      <td>Yes</td>\n",
       "      <td>Medium</td>\n",
       "      <td>No</td>\n",
       "      <td>No</td>\n",
       "      <td>Yes</td>\n",
       "      <td>No</td>\n",
       "      <td>Yes</td>\n",
       "    </tr>\n",
       "    <tr>\n",
       "      <th>3</th>\n",
       "      <td>8/27/2014 11:37</td>\n",
       "      <td>Female</td>\n",
       "      <td>United States</td>\n",
       "      <td>Corporate</td>\n",
       "      <td>No</td>\n",
       "      <td>Yes</td>\n",
       "      <td>Yes</td>\n",
       "      <td>1-14 days</td>\n",
       "      <td>Yes</td>\n",
       "      <td>No</td>\n",
       "      <td>Yes</td>\n",
       "      <td>Medium</td>\n",
       "      <td>No</td>\n",
       "      <td>No</td>\n",
       "      <td>Yes</td>\n",
       "      <td>Maybe</td>\n",
       "      <td>Yes</td>\n",
       "    </tr>\n",
       "    <tr>\n",
       "      <th>4</th>\n",
       "      <td>8/27/2014 11:43</td>\n",
       "      <td>Female</td>\n",
       "      <td>United States</td>\n",
       "      <td>Corporate</td>\n",
       "      <td>No</td>\n",
       "      <td>Yes</td>\n",
       "      <td>Yes</td>\n",
       "      <td>1-14 days</td>\n",
       "      <td>Yes</td>\n",
       "      <td>No</td>\n",
       "      <td>Yes</td>\n",
       "      <td>Medium</td>\n",
       "      <td>No</td>\n",
       "      <td>No</td>\n",
       "      <td>Yes</td>\n",
       "      <td>No</td>\n",
       "      <td>Yes</td>\n",
       "    </tr>\n",
       "  </tbody>\n",
       "</table>\n",
       "</div>"
      ],
      "text/plain": [
       "         Timestamp  Gender        Country Occupation self_employed  \\\n",
       "0  8/27/2014 11:29  Female  United States  Corporate           NaN   \n",
       "1  8/27/2014 11:31  Female  United States  Corporate           NaN   \n",
       "2  8/27/2014 11:32  Female  United States  Corporate           NaN   \n",
       "3  8/27/2014 11:37  Female  United States  Corporate            No   \n",
       "4  8/27/2014 11:43  Female  United States  Corporate            No   \n",
       "\n",
       "  family_history treatment Days_Indoors Growing_Stress Changes_Habits  \\\n",
       "0             No       Yes    1-14 days            Yes             No   \n",
       "1            Yes       Yes    1-14 days            Yes             No   \n",
       "2            Yes       Yes    1-14 days            Yes             No   \n",
       "3            Yes       Yes    1-14 days            Yes             No   \n",
       "4            Yes       Yes    1-14 days            Yes             No   \n",
       "\n",
       "  Mental_Health_History Mood_Swings Coping_Struggles Work_Interest  \\\n",
       "0                   Yes      Medium               No            No   \n",
       "1                   Yes      Medium               No            No   \n",
       "2                   Yes      Medium               No            No   \n",
       "3                   Yes      Medium               No            No   \n",
       "4                   Yes      Medium               No            No   \n",
       "\n",
       "  Social_Weakness mental_health_interview care_options  \n",
       "0             Yes                      No     Not sure  \n",
       "1             Yes                      No           No  \n",
       "2             Yes                      No          Yes  \n",
       "3             Yes                   Maybe          Yes  \n",
       "4             Yes                      No          Yes  "
      ]
     },
     "execution_count": 37,
     "metadata": {},
     "output_type": "execute_result"
    }
   ],
   "source": [
    "#https://www.kaggle.com/datasets/bhavikjikadara/mental-health-dataset\n",
    "df_main = pd.read_csv(\"Mental-Health-Dataset.csv\")\n",
    "df_main.head()\n"
   ]
  },
  {
   "cell_type": "code",
   "execution_count": 38,
   "metadata": {},
   "outputs": [
    {
     "name": "stdout",
     "output_type": "stream",
     "text": [
      "Number of rows: 292364\n"
     ]
    }
   ],
   "source": [
    "num_rows = len(df_main)\n",
    "print(\"Number of rows:\", num_rows)"
   ]
  },
  {
   "cell_type": "code",
   "execution_count": 39,
   "metadata": {},
   "outputs": [
    {
     "data": {
      "text/plain": [
       "Timestamp                  object\n",
       "Gender                     object\n",
       "Country                    object\n",
       "Occupation                 object\n",
       "self_employed              object\n",
       "family_history             object\n",
       "treatment                  object\n",
       "Days_Indoors               object\n",
       "Growing_Stress             object\n",
       "Changes_Habits             object\n",
       "Mental_Health_History      object\n",
       "Mood_Swings                object\n",
       "Coping_Struggles           object\n",
       "Work_Interest              object\n",
       "Social_Weakness            object\n",
       "mental_health_interview    object\n",
       "care_options               object\n",
       "dtype: object"
      ]
     },
     "execution_count": 39,
     "metadata": {},
     "output_type": "execute_result"
    }
   ],
   "source": [
    "df_main.dtypes"
   ]
  },
  {
   "cell_type": "code",
   "execution_count": 40,
   "metadata": {},
   "outputs": [
    {
     "name": "stdout",
     "output_type": "stream",
     "text": [
      "Number of rows with blank values: 5202\n"
     ]
    }
   ],
   "source": [
    "# Count number of rows with blank values\n",
    "num_rows_with_blank_values = df_main.isna().any(axis=1).sum()\n",
    "\n",
    "# Print the number of rows with blank values\n",
    "print(\"Number of rows with blank values:\", num_rows_with_blank_values)\n"
   ]
  },
  {
   "cell_type": "code",
   "execution_count": 41,
   "metadata": {},
   "outputs": [
    {
     "name": "stdout",
     "output_type": "stream",
     "text": [
      "Number of rows in the cleaned DataFrame: 287162\n"
     ]
    }
   ],
   "source": [
    "# Drop rows with NaN values and create a new DataFrame\n",
    "clean_df_main = df_main.dropna()\n",
    "\n",
    "# Count number of rows in the cleaned DataFrame\n",
    "clean_num_rows = len(clean_df_main)\n",
    "\n",
    "# Print the number of rows\n",
    "print(\"Number of rows in the cleaned DataFrame:\", clean_num_rows)\n"
   ]
  },
  {
   "cell_type": "code",
   "execution_count": 42,
   "metadata": {},
   "outputs": [
    {
     "name": "stdout",
     "output_type": "stream",
     "text": [
      "Index(['Timestamp', 'Gender', 'Country', 'Occupation', 'self_employed',\n",
      "       'family_history', 'treatment', 'Days_Indoors', 'Growing_Stress',\n",
      "       'Changes_Habits', 'Mental_Health_History', 'Mood_Swings',\n",
      "       'Coping_Struggles', 'Work_Interest', 'Social_Weakness',\n",
      "       'mental_health_interview', 'care_options'],\n",
      "      dtype='object')\n"
     ]
    }
   ],
   "source": [
    "print(clean_df_main.columns)"
   ]
  },
  {
   "cell_type": "markdown",
   "metadata": {},
   "source": [
    "#Timestamp                  DROP\n",
    "#Gender                     object\n",
    "#Country                    object\n",
    "#Occupation                 object\n",
    "#self_employed              object\n",
    "#family_history             Yes = 1, No = - 1, Maybe = 0\n",
    "#treatment                  object\n",
    "#Days_Indoors               object\n",
    "#Growing_Stress             Yes = 1, No = - 1, Maybe = 0\n",
    "#Changes_Habits             Yes = 1, No = - 1, Maybe = 0\n",
    "#Mental_Health_History      object\n",
    "#Mood_Swings                Low -1 Medium 0 High 1\n",
    "#Coping_Struggles           Yes = 1, No = - 1, Maybe = 0\n",
    "#Work_Interest              Yes = -1, No = 1, Maybe = 0\n",
    "#Social_Weakness            Yes = 1, No = - 1, Maybe = 0\n",
    "#mental_health_interview    object\n",
    "#care_options               object"
   ]
  },
  {
   "cell_type": "code",
   "execution_count": 43,
   "metadata": {},
   "outputs": [
    {
     "name": "stderr",
     "output_type": "stream",
     "text": [
      "/var/folders/y9/yjkwjxy552l0r3g66ghndhyh0000gn/T/ipykernel_80641/3610778522.py:11: FutureWarning: Downcasting behavior in `replace` is deprecated and will be removed in a future version. To retain the old behavior, explicitly call `result.infer_objects(copy=False)`. To opt-in to the future behavior, set `pd.set_option('future.no_silent_downcasting', True)`\n",
      "  clean_df_main.loc[:, columns_to_convert] = clean_df_main.loc[:, columns_to_convert].replace(standard_mapping)\n",
      "/var/folders/y9/yjkwjxy552l0r3g66ghndhyh0000gn/T/ipykernel_80641/3610778522.py:20: FutureWarning: Downcasting behavior in `replace` is deprecated and will be removed in a future version. To retain the old behavior, explicitly call `result.infer_objects(copy=False)`. To opt-in to the future behavior, set `pd.set_option('future.no_silent_downcasting', True)`\n",
      "  clean_df_main.loc[:, 'Mood_Swings'] = clean_df_main.loc[:, 'Mood_Swings'].replace(mood_mapping)\n",
      "/var/folders/y9/yjkwjxy552l0r3g66ghndhyh0000gn/T/ipykernel_80641/3610778522.py:29: FutureWarning: Downcasting behavior in `replace` is deprecated and will be removed in a future version. To retain the old behavior, explicitly call `result.infer_objects(copy=False)`. To opt-in to the future behavior, set `pd.set_option('future.no_silent_downcasting', True)`\n",
      "  clean_df_main.loc[:, 'Work_Interest'] = clean_df_main.loc[:, 'Work_Interest'].replace(work_interest_mapping)\n",
      "/var/folders/y9/yjkwjxy552l0r3g66ghndhyh0000gn/T/ipykernel_80641/3610778522.py:35: FutureWarning: Downcasting behavior in `replace` is deprecated and will be removed in a future version. To retain the old behavior, explicitly call `result.infer_objects(copy=False)`. To opt-in to the future behavior, set `pd.set_option('future.no_silent_downcasting', True)`\n",
      "  clean_df_main.loc[:,'Mental_Health_History'] = clean_df_main.loc[:, 'Mental_Health_History'].replace(standard_mapping)\n"
     ]
    },
    {
     "name": "stdout",
     "output_type": "stream",
     "text": [
      "         timestamp  gender        country occupation self_employed  \\\n",
      "3  8/27/2014 11:37  Female  United States  Corporate            No   \n",
      "4  8/27/2014 11:43  Female  United States  Corporate            No   \n",
      "5  8/27/2014 11:49  Female         Poland  Corporate            No   \n",
      "6  8/27/2014 11:51  Female      Australia  Corporate            No   \n",
      "7  8/27/2014 11:52  Female  United States  Corporate            No   \n",
      "\n",
      "   family_history  treatment days_indoors  growing_stress  changes_habits  \\\n",
      "3               1          1    1-14 days               1              -1   \n",
      "4               1          1    1-14 days               1              -1   \n",
      "5              -1          1    1-14 days               1              -1   \n",
      "6               1          1    1-14 days               1              -1   \n",
      "7              -1         -1    1-14 days               1              -1   \n",
      "\n",
      "   mental_health_history  mood_swings  coping_struggles  work_interest  \\\n",
      "3                      1            0                -1              1   \n",
      "4                      1            0                -1              1   \n",
      "5                      1            0                -1              1   \n",
      "6                      1            0                -1              1   \n",
      "7                      1            0                -1              1   \n",
      "\n",
      "   social_weakness mental_health_interview care_options  \n",
      "3                1                   Maybe          Yes  \n",
      "4                1                      No          Yes  \n",
      "5                1                   Maybe     Not sure  \n",
      "6                1                      No     Not sure  \n",
      "7                1                      No           No  \n"
     ]
    },
    {
     "name": "stderr",
     "output_type": "stream",
     "text": [
      "/var/folders/y9/yjkwjxy552l0r3g66ghndhyh0000gn/T/ipykernel_80641/3610778522.py:41: FutureWarning: Downcasting behavior in `replace` is deprecated and will be removed in a future version. To retain the old behavior, explicitly call `result.infer_objects(copy=False)`. To opt-in to the future behavior, set `pd.set_option('future.no_silent_downcasting', True)`\n",
      "  clean_df_main.loc[:,'treatment'] = clean_df_main.loc[:, 'treatment'].replace(standard_mapping)\n"
     ]
    }
   ],
   "source": [
    "\n",
    "\n",
    "# Create a copy of the DataFrame\n",
    "clean_df_main = clean_df_main.copy()\n",
    "\n",
    "# Define a mapping dictionary (standard)\n",
    "standard_mapping = {'Yes': 1, 'No': -1, 'Maybe': 0, 'Not sure': 0}\n",
    "\n",
    "# Define the columns to be replaced and converted to integers\n",
    "columns_to_convert = ['family_history', 'Growing_Stress', 'Changes_Habits', 'Coping_Struggles', 'Social_Weakness']\n",
    "\n",
    "# Replace the values in the specified columns using .replace and .loc\n",
    "clean_df_main.loc[:, columns_to_convert] = clean_df_main.loc[:, columns_to_convert].replace(standard_mapping)\n",
    "\n",
    "# Convert the column dtypes to integer using .astype('Int64')\n",
    "clean_df_main[columns_to_convert] = clean_df_main[columns_to_convert].astype('Int64')\n",
    "\n",
    "# Map Mood_Swings values to numeric values\n",
    "mood_mapping = {'Low': -1, 'Medium': 0, 'High': 1}\n",
    "\n",
    "# Replace Mood_Swings values with numeric equivalents using .replace and .loc\n",
    "clean_df_main.loc[:, 'Mood_Swings'] = clean_df_main.loc[:, 'Mood_Swings'].replace(mood_mapping)\n",
    "\n",
    "# Convert the Mood_Swings column dtype to integer using .astype('Int64')\n",
    "clean_df_main['Mood_Swings'] = clean_df_main['Mood_Swings'].astype('Int64')\n",
    "\n",
    "# Map Work_Interest values to numeric values\n",
    "work_interest_mapping = {'Yes': -1, 'No': 1, 'Maybe': 0}\n",
    "\n",
    "# Replace Work_Interest values with numeric equivalents using .replace and .loc\n",
    "clean_df_main.loc[:, 'Work_Interest'] = clean_df_main.loc[:, 'Work_Interest'].replace(work_interest_mapping)\n",
    "\n",
    "# Convert the Work_Interest column dtype to integer using .astype('Int64')\n",
    "clean_df_main['Work_Interest'] = clean_df_main['Work_Interest'].astype('Int64')\n",
    "\n",
    "# Mental Health History values to numeric values\n",
    "clean_df_main.loc[:,'Mental_Health_History'] = clean_df_main.loc[:, 'Mental_Health_History'].replace(standard_mapping)\n",
    "clean_df_main['Mental_Health_History'] = clean_df_main['Mental_Health_History'].astype('Int64')\n",
    "\n",
    "\n",
    "\n",
    "# Treatment values to numeric values\n",
    "clean_df_main.loc[:,'treatment'] = clean_df_main.loc[:, 'treatment'].replace(standard_mapping)\n",
    "clean_df_main['treatment'] = clean_df_main['treatment'].astype('Int64')\n",
    "\n",
    "\n",
    "#change to lower case\n",
    "clean_df_main.columns = clean_df_main.columns.str.lower()\n",
    "\n",
    "\n",
    "# Display the updated DataFrame\n",
    "print(clean_df_main.head())\n"
   ]
  },
  {
   "cell_type": "code",
   "execution_count": 44,
   "metadata": {},
   "outputs": [
    {
     "name": "stdout",
     "output_type": "stream",
     "text": [
      "Number of rows: 287162\n"
     ]
    }
   ],
   "source": [
    "# Count the number of rows in the DataFrame\n",
    "num_rows = clean_df_main.shape[0]\n",
    "\n",
    "# Print the number of rows\n",
    "print(\"Number of rows:\", num_rows)\n"
   ]
  },
  {
   "cell_type": "code",
   "execution_count": 45,
   "metadata": {},
   "outputs": [
    {
     "name": "stdout",
     "output_type": "stream",
     "text": [
      "              timestamp  gender        country occupation self_employed  \\\n",
      "3       8/27/2014 11:37  Female  United States  Corporate            No   \n",
      "4       8/27/2014 11:43  Female  United States  Corporate            No   \n",
      "5       8/27/2014 11:49  Female         Poland  Corporate            No   \n",
      "6       8/27/2014 11:51  Female      Australia  Corporate            No   \n",
      "7       8/27/2014 11:52  Female  United States  Corporate            No   \n",
      "...                 ...     ...            ...        ...           ...   \n",
      "292359  7/27/2015 23:25    Male  United States   Business           Yes   \n",
      "292360   8/17/2015 9:38    Male   South Africa   Business            No   \n",
      "292361  8/25/2015 19:59    Male  United States   Business            No   \n",
      "292362   9/26/2015 1:07    Male  United States   Business            No   \n",
      "292363   2/1/2016 23:04    Male  United States   Business            No   \n",
      "\n",
      "        family_history  treatment days_indoors  growing_stress  \\\n",
      "3                    1          1    1-14 days               1   \n",
      "4                    1          1    1-14 days               1   \n",
      "5                   -1          1    1-14 days               1   \n",
      "6                    1          1    1-14 days               1   \n",
      "7                   -1         -1    1-14 days               1   \n",
      "...                ...        ...          ...             ...   \n",
      "292359               1          1   15-30 days              -1   \n",
      "292360               1          1   15-30 days              -1   \n",
      "292361               1         -1   15-30 days              -1   \n",
      "292362               1          1   15-30 days              -1   \n",
      "292363               1          1   15-30 days              -1   \n",
      "\n",
      "        changes_habits  mental_health_history  mood_swings  coping_struggles  \\\n",
      "3                   -1                      1            0                -1   \n",
      "4                   -1                      1            0                -1   \n",
      "5                   -1                      1            0                -1   \n",
      "6                   -1                      1            0                -1   \n",
      "7                   -1                      1            0                -1   \n",
      "...                ...                    ...          ...               ...   \n",
      "292359               0                     -1           -1                 1   \n",
      "292360               0                     -1           -1                 1   \n",
      "292361               0                     -1           -1                 1   \n",
      "292362               0                     -1           -1                 1   \n",
      "292363               0                     -1           -1                 1   \n",
      "\n",
      "        work_interest  social_weakness mental_health_interview care_options  \\\n",
      "3                   1                1                   Maybe          Yes   \n",
      "4                   1                1                      No          Yes   \n",
      "5                   1                1                   Maybe     Not sure   \n",
      "6                   1                1                      No     Not sure   \n",
      "7                   1                1                      No           No   \n",
      "...               ...              ...                     ...          ...   \n",
      "292359              1                0                   Maybe     Not sure   \n",
      "292360              1                0                      No          Yes   \n",
      "292361              1                0                      No           No   \n",
      "292362              1                0                      No          Yes   \n",
      "292363              1                0                      No          Yes   \n",
      "\n",
      "        mental_health_severity  candidacy_rating  \n",
      "3                            2                 3  \n",
      "4                            2                 3  \n",
      "5                            2                 1  \n",
      "6                            2                 3  \n",
      "7                            2                -1  \n",
      "...                        ...               ...  \n",
      "292359                      -1                 0  \n",
      "292360                      -1                 0  \n",
      "292361                      -1                -2  \n",
      "292362                      -1                 0  \n",
      "292363                      -1                 0  \n",
      "\n",
      "[287162 rows x 19 columns]\n"
     ]
    }
   ],
   "source": [
    "# Copy the DataFrame\n",
    "df_mh_factors = clean_df_main.copy()\n",
    "\n",
    "# Create the 'mental_health_severity' feature\n",
    "df_mh_factors['mental_health_severity'] = (clean_df_main['growing_stress'] + \n",
    "                                           clean_df_main['changes_habits'] + \n",
    "                                           clean_df_main['mental_health_history'] + \n",
    "                                           clean_df_main['mood_swings'] + \n",
    "                                           clean_df_main['coping_struggles'] + \n",
    "                                           clean_df_main['work_interest'] + \n",
    "                                           clean_df_main['social_weakness'])\n",
    "\n",
    "# Create the 'candidacy_rating' feature\n",
    "df_mh_factors['candidacy_rating'] = (clean_df_main['family_history'] + \n",
    "                                     clean_df_main['treatment'] + \n",
    "                                     clean_df_main['growing_stress'] + \n",
    "                                     clean_df_main['changes_habits'] + \n",
    "                                     clean_df_main['mental_health_history'])\n",
    "\n",
    "# Display the DataFrame to check the new features\n",
    "print(df_mh_factors)"
   ]
  },
  {
   "cell_type": "code",
   "execution_count": 46,
   "metadata": {},
   "outputs": [
    {
     "data": {
      "text/plain": [
       "timestamp                  object\n",
       "gender                     object\n",
       "country                    object\n",
       "occupation                 object\n",
       "self_employed              object\n",
       "family_history              Int64\n",
       "treatment                   Int64\n",
       "days_indoors               object\n",
       "growing_stress              Int64\n",
       "changes_habits              Int64\n",
       "mental_health_history       Int64\n",
       "mood_swings                 Int64\n",
       "coping_struggles            Int64\n",
       "work_interest               Int64\n",
       "social_weakness             Int64\n",
       "mental_health_interview    object\n",
       "care_options               object\n",
       "dtype: object"
      ]
     },
     "execution_count": 46,
     "metadata": {},
     "output_type": "execute_result"
    }
   ],
   "source": [
    "clean_df_main.dtypes"
   ]
  },
  {
   "cell_type": "code",
   "execution_count": 47,
   "metadata": {},
   "outputs": [],
   "source": [
    "# Export DataFrame to a CSV file\n",
    "clean_df_main.to_csv('clean_df_main.csv', index=False)\n",
    "clean_df_main.head()\n",
    "\n",
    "df_mh_factors.to_csv('df_factors.csv', index=False)"
   ]
  }
 ],
 "metadata": {
  "kernelspec": {
   "display_name": "Python 3",
   "language": "python",
   "name": "python3"
  },
  "language_info": {
   "codemirror_mode": {
    "name": "ipython",
    "version": 3
   },
   "file_extension": ".py",
   "mimetype": "text/x-python",
   "name": "python",
   "nbconvert_exporter": "python",
   "pygments_lexer": "ipython3",
   "version": "3.12.1"
  }
 },
 "nbformat": 4,
 "nbformat_minor": 2
}
