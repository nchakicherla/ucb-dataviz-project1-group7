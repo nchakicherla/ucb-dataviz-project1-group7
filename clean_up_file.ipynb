{
 "cells": [
  {
   "cell_type": "code",
   "execution_count": 23,
   "metadata": {},
   "outputs": [],
   "source": [
    "import pandas as pd\n",
    "from pathlib import Path\n",
    "import matplotlib.pyplot as plt\n",
    "import numpy as np\n",
    "import seaborn as sns"
   ]
  },
  {
   "cell_type": "code",
   "execution_count": 24,
   "metadata": {},
   "outputs": [
    {
     "data": {
      "text/html": [
       "<div>\n",
       "<style scoped>\n",
       "    .dataframe tbody tr th:only-of-type {\n",
       "        vertical-align: middle;\n",
       "    }\n",
       "\n",
       "    .dataframe tbody tr th {\n",
       "        vertical-align: top;\n",
       "    }\n",
       "\n",
       "    .dataframe thead th {\n",
       "        text-align: right;\n",
       "    }\n",
       "</style>\n",
       "<table border=\"1\" class=\"dataframe\">\n",
       "  <thead>\n",
       "    <tr style=\"text-align: right;\">\n",
       "      <th></th>\n",
       "      <th>Timestamp</th>\n",
       "      <th>Gender</th>\n",
       "      <th>Country</th>\n",
       "      <th>Occupation</th>\n",
       "      <th>self_employed</th>\n",
       "      <th>family_history</th>\n",
       "      <th>treatment</th>\n",
       "      <th>Days_Indoors</th>\n",
       "      <th>Growing_Stress</th>\n",
       "      <th>Changes_Habits</th>\n",
       "      <th>Mental_Health_History</th>\n",
       "      <th>Mood_Swings</th>\n",
       "      <th>Coping_Struggles</th>\n",
       "      <th>Work_Interest</th>\n",
       "      <th>Social_Weakness</th>\n",
       "      <th>mental_health_interview</th>\n",
       "      <th>care_options</th>\n",
       "    </tr>\n",
       "  </thead>\n",
       "  <tbody>\n",
       "    <tr>\n",
       "      <th>0</th>\n",
       "      <td>8/27/2014 11:29</td>\n",
       "      <td>Female</td>\n",
       "      <td>United States</td>\n",
       "      <td>Corporate</td>\n",
       "      <td>NaN</td>\n",
       "      <td>No</td>\n",
       "      <td>Yes</td>\n",
       "      <td>1-14 days</td>\n",
       "      <td>Yes</td>\n",
       "      <td>No</td>\n",
       "      <td>Yes</td>\n",
       "      <td>Medium</td>\n",
       "      <td>No</td>\n",
       "      <td>No</td>\n",
       "      <td>Yes</td>\n",
       "      <td>No</td>\n",
       "      <td>Not sure</td>\n",
       "    </tr>\n",
       "    <tr>\n",
       "      <th>1</th>\n",
       "      <td>8/27/2014 11:31</td>\n",
       "      <td>Female</td>\n",
       "      <td>United States</td>\n",
       "      <td>Corporate</td>\n",
       "      <td>NaN</td>\n",
       "      <td>Yes</td>\n",
       "      <td>Yes</td>\n",
       "      <td>1-14 days</td>\n",
       "      <td>Yes</td>\n",
       "      <td>No</td>\n",
       "      <td>Yes</td>\n",
       "      <td>Medium</td>\n",
       "      <td>No</td>\n",
       "      <td>No</td>\n",
       "      <td>Yes</td>\n",
       "      <td>No</td>\n",
       "      <td>No</td>\n",
       "    </tr>\n",
       "    <tr>\n",
       "      <th>2</th>\n",
       "      <td>8/27/2014 11:32</td>\n",
       "      <td>Female</td>\n",
       "      <td>United States</td>\n",
       "      <td>Corporate</td>\n",
       "      <td>NaN</td>\n",
       "      <td>Yes</td>\n",
       "      <td>Yes</td>\n",
       "      <td>1-14 days</td>\n",
       "      <td>Yes</td>\n",
       "      <td>No</td>\n",
       "      <td>Yes</td>\n",
       "      <td>Medium</td>\n",
       "      <td>No</td>\n",
       "      <td>No</td>\n",
       "      <td>Yes</td>\n",
       "      <td>No</td>\n",
       "      <td>Yes</td>\n",
       "    </tr>\n",
       "    <tr>\n",
       "      <th>3</th>\n",
       "      <td>8/27/2014 11:37</td>\n",
       "      <td>Female</td>\n",
       "      <td>United States</td>\n",
       "      <td>Corporate</td>\n",
       "      <td>No</td>\n",
       "      <td>Yes</td>\n",
       "      <td>Yes</td>\n",
       "      <td>1-14 days</td>\n",
       "      <td>Yes</td>\n",
       "      <td>No</td>\n",
       "      <td>Yes</td>\n",
       "      <td>Medium</td>\n",
       "      <td>No</td>\n",
       "      <td>No</td>\n",
       "      <td>Yes</td>\n",
       "      <td>Maybe</td>\n",
       "      <td>Yes</td>\n",
       "    </tr>\n",
       "    <tr>\n",
       "      <th>4</th>\n",
       "      <td>8/27/2014 11:43</td>\n",
       "      <td>Female</td>\n",
       "      <td>United States</td>\n",
       "      <td>Corporate</td>\n",
       "      <td>No</td>\n",
       "      <td>Yes</td>\n",
       "      <td>Yes</td>\n",
       "      <td>1-14 days</td>\n",
       "      <td>Yes</td>\n",
       "      <td>No</td>\n",
       "      <td>Yes</td>\n",
       "      <td>Medium</td>\n",
       "      <td>No</td>\n",
       "      <td>No</td>\n",
       "      <td>Yes</td>\n",
       "      <td>No</td>\n",
       "      <td>Yes</td>\n",
       "    </tr>\n",
       "  </tbody>\n",
       "</table>\n",
       "</div>"
      ],
      "text/plain": [
       "         Timestamp  Gender        Country Occupation self_employed  \\\n",
       "0  8/27/2014 11:29  Female  United States  Corporate           NaN   \n",
       "1  8/27/2014 11:31  Female  United States  Corporate           NaN   \n",
       "2  8/27/2014 11:32  Female  United States  Corporate           NaN   \n",
       "3  8/27/2014 11:37  Female  United States  Corporate            No   \n",
       "4  8/27/2014 11:43  Female  United States  Corporate            No   \n",
       "\n",
       "  family_history treatment Days_Indoors Growing_Stress Changes_Habits  \\\n",
       "0             No       Yes    1-14 days            Yes             No   \n",
       "1            Yes       Yes    1-14 days            Yes             No   \n",
       "2            Yes       Yes    1-14 days            Yes             No   \n",
       "3            Yes       Yes    1-14 days            Yes             No   \n",
       "4            Yes       Yes    1-14 days            Yes             No   \n",
       "\n",
       "  Mental_Health_History Mood_Swings Coping_Struggles Work_Interest  \\\n",
       "0                   Yes      Medium               No            No   \n",
       "1                   Yes      Medium               No            No   \n",
       "2                   Yes      Medium               No            No   \n",
       "3                   Yes      Medium               No            No   \n",
       "4                   Yes      Medium               No            No   \n",
       "\n",
       "  Social_Weakness mental_health_interview care_options  \n",
       "0             Yes                      No     Not sure  \n",
       "1             Yes                      No           No  \n",
       "2             Yes                      No          Yes  \n",
       "3             Yes                   Maybe          Yes  \n",
       "4             Yes                      No          Yes  "
      ]
     },
     "execution_count": 24,
     "metadata": {},
     "output_type": "execute_result"
    }
   ],
   "source": [
    "#https://www.kaggle.com/datasets/bhavikjikadara/mental-health-dataset\n",
    "df_main = pd.read_csv(\"files/Mental-Health-Dataset.csv\")\n",
    "df_main.head()\n"
   ]
  },
  {
   "cell_type": "code",
   "execution_count": 25,
   "metadata": {},
   "outputs": [
    {
     "name": "stdout",
     "output_type": "stream",
     "text": [
      "Number of rows: 292364\n"
     ]
    }
   ],
   "source": [
    "num_rows = len(df_main)\n",
    "print(\"Number of rows:\", num_rows)"
   ]
  },
  {
   "cell_type": "code",
   "execution_count": 26,
   "metadata": {},
   "outputs": [
    {
     "data": {
      "text/plain": [
       "Timestamp                  object\n",
       "Gender                     object\n",
       "Country                    object\n",
       "Occupation                 object\n",
       "self_employed              object\n",
       "family_history             object\n",
       "treatment                  object\n",
       "Days_Indoors               object\n",
       "Growing_Stress             object\n",
       "Changes_Habits             object\n",
       "Mental_Health_History      object\n",
       "Mood_Swings                object\n",
       "Coping_Struggles           object\n",
       "Work_Interest              object\n",
       "Social_Weakness            object\n",
       "mental_health_interview    object\n",
       "care_options               object\n",
       "dtype: object"
      ]
     },
     "execution_count": 26,
     "metadata": {},
     "output_type": "execute_result"
    }
   ],
   "source": [
    "df_main.dtypes"
   ]
  },
  {
   "cell_type": "code",
   "execution_count": 27,
   "metadata": {},
   "outputs": [
    {
     "name": "stdout",
     "output_type": "stream",
     "text": [
      "Number of rows in the cleaned DataFrame: 287162\n"
     ]
    }
   ],
   "source": [
    "# Drop rows with NaN values and create a new DataFrame\n",
    "clean_df_main = df_main.dropna()\n",
    "\n",
    "# Count number of rows in the cleaned DataFrame\n",
    "clean_num_rows = len(clean_df_main)\n",
    "\n",
    "# Print the number of rows\n",
    "print(\"Number of rows in the cleaned DataFrame:\", clean_num_rows)"
   ]
  },
  {
   "cell_type": "code",
   "execution_count": 28,
   "metadata": {},
   "outputs": [
    {
     "name": "stdout",
     "output_type": "stream",
     "text": [
      "Index(['Timestamp', 'Gender', 'Country', 'Occupation', 'self_employed',\n",
      "       'family_history', 'treatment', 'Days_Indoors', 'Growing_Stress',\n",
      "       'Changes_Habits', 'Mental_Health_History', 'Mood_Swings',\n",
      "       'Coping_Struggles', 'Work_Interest', 'Social_Weakness',\n",
      "       'mental_health_interview', 'care_options'],\n",
      "      dtype='object')\n"
     ]
    }
   ],
   "source": [
    "print(clean_df_main.columns)"
   ]
  },
  {
   "cell_type": "code",
   "execution_count": 29,
   "metadata": {},
   "outputs": [
    {
     "name": "stderr",
     "output_type": "stream",
     "text": [
      "/var/folders/gq/mq07s6b53jx7p5v4jtvf7mrw0000gp/T/ipykernel_30703/2592911893.py:8: FutureWarning: Downcasting behavior in `replace` is deprecated and will be removed in a future version. To retain the old behavior, explicitly call `result.infer_objects(copy=False)`. To opt-in to the future behavior, set `pd.set_option('future.no_silent_downcasting', True)`\n",
      "  clean_df_main.replace({col: mapping for col in columns_to_convert}, inplace=True)\n",
      "/var/folders/gq/mq07s6b53jx7p5v4jtvf7mrw0000gp/T/ipykernel_30703/2592911893.py:8: SettingWithCopyWarning: \n",
      "A value is trying to be set on a copy of a slice from a DataFrame.\n",
      "Try using .loc[row_indexer,col_indexer] = value instead\n",
      "\n",
      "See the caveats in the documentation: https://pandas.pydata.org/pandas-docs/stable/user_guide/indexing.html#returning-a-view-versus-a-copy\n",
      "  clean_df_main.replace({col: mapping for col in columns_to_convert}, inplace=True)\n"
     ]
    },
    {
     "name": "stdout",
     "output_type": "stream",
     "text": [
      "         Timestamp  Gender        Country Occupation  self_employed  \\\n",
      "3  8/27/2014 11:37  Female  United States  Corporate             -1   \n",
      "4  8/27/2014 11:43  Female  United States  Corporate             -1   \n",
      "5  8/27/2014 11:49  Female         Poland  Corporate             -1   \n",
      "6  8/27/2014 11:51  Female      Australia  Corporate             -1   \n",
      "7  8/27/2014 11:52  Female  United States  Corporate             -1   \n",
      "\n",
      "   family_history  treatment Days_Indoors  Growing_Stress  Changes_Habits  \\\n",
      "3               1          1    1-14 days               1              -1   \n",
      "4               1          1    1-14 days               1              -1   \n",
      "5              -1          1    1-14 days               1              -1   \n",
      "6               1          1    1-14 days               1              -1   \n",
      "7              -1         -1    1-14 days               1              -1   \n",
      "\n",
      "   Mental_Health_History  Mood_Swings  Coping_Struggles  Work_Interest  \\\n",
      "3                      1            2                -1             -1   \n",
      "4                      1            2                -1             -1   \n",
      "5                      1            2                -1             -1   \n",
      "6                      1            2                -1             -1   \n",
      "7                      1            2                -1             -1   \n",
      "\n",
      "   Social_Weakness  mental_health_interview  care_options  \n",
      "3                1                        0             1  \n",
      "4                1                       -1             1  \n",
      "5                1                        0             0  \n",
      "6                1                       -1             0  \n",
      "7                1                       -1            -1  \n"
     ]
    },
    {
     "name": "stderr",
     "output_type": "stream",
     "text": [
      "/var/folders/gq/mq07s6b53jx7p5v4jtvf7mrw0000gp/T/ipykernel_30703/2592911893.py:18: FutureWarning: Downcasting behavior in `replace` is deprecated and will be removed in a future version. To retain the old behavior, explicitly call `result.infer_objects(copy=False)`. To opt-in to the future behavior, set `pd.set_option('future.no_silent_downcasting', True)`\n",
      "  clean_df_main['Mood_Swings'] = clean_df_main['Mood_Swings'].replace(mood_mapping).infer_objects(copy=False)\n"
     ]
    }
   ],
   "source": [
    "# Define a mapping dictionary\n",
    "mapping = {'Yes': 1, 'No': -1, 'Maybe': 0, 'Not sure':0}\n",
    "\n",
    "# Define the columns to be replaced and converted to integers\n",
    "columns_to_convert = ['self_employed', 'family_history', 'treatment', 'Growing_Stress', 'Changes_Habits', 'Mental_Health_History', 'Coping_Struggles', 'Work_Interest', 'Social_Weakness', 'mental_health_interview', 'care_options']\n",
    "\n",
    "# Replace the values in the specified columns\n",
    "clean_df_main.replace({col: mapping for col in columns_to_convert}, inplace=True)\n",
    "clean_df_main = clean_df_main.infer_objects(copy=False)\n",
    "\n",
    "# Convert the column dtypes to integer\n",
    "clean_df_main[columns_to_convert] = clean_df_main[columns_to_convert].astype(int)\n",
    "\n",
    "# Map Mood_Swings values to numeric values\n",
    "mood_mapping = {'Low': 1, 'Medium': 2, 'High': 3}\n",
    "\n",
    "# Replace Mood_Swings values with numeric equivalents\n",
    "clean_df_main['Mood_Swings'] = clean_df_main['Mood_Swings'].replace(mood_mapping).infer_objects(copy=False)\n",
    "\n",
    "# Convert the Mood_Swings column dtype to integer\n",
    "clean_df_main['Mood_Swings'] = clean_df_main['Mood_Swings'].astype(int)\n",
    "\n",
    "# Display the updated DataFrame\n",
    "print(clean_df_main.head())\n"
   ]
  },
  {
   "cell_type": "code",
   "execution_count": 30,
   "metadata": {},
   "outputs": [
    {
     "name": "stdout",
     "output_type": "stream",
     "text": [
      "              Timestamp  Gender        Country Occupation  self_employed  \\\n",
      "3       8/27/2014 11:37  Female  United States  Corporate             -1   \n",
      "4       8/27/2014 11:43  Female  United States  Corporate             -1   \n",
      "5       8/27/2014 11:49  Female         Poland  Corporate             -1   \n",
      "6       8/27/2014 11:51  Female      Australia  Corporate             -1   \n",
      "7       8/27/2014 11:52  Female  United States  Corporate             -1   \n",
      "...                 ...     ...            ...        ...            ...   \n",
      "291129  7/27/2015 23:25    Male  United States     Others              1   \n",
      "291130   8/17/2015 9:38    Male   South Africa     Others             -1   \n",
      "291131  8/25/2015 19:59    Male  United States     Others             -1   \n",
      "291132   9/26/2015 1:07    Male  United States     Others             -1   \n",
      "291133   2/1/2016 23:04    Male  United States     Others             -1   \n",
      "\n",
      "        family_history  treatment Days_Indoors  Growing_Stress  \\\n",
      "3                    1          1    1-14 days               1   \n",
      "4                    1          1    1-14 days               1   \n",
      "5                   -1          1    1-14 days               1   \n",
      "6                    1          1    1-14 days               1   \n",
      "7                   -1         -1    1-14 days               1   \n",
      "...                ...        ...          ...             ...   \n",
      "291129               1          1    1-14 days               1   \n",
      "291130               1          1    1-14 days               1   \n",
      "291131               1         -1    1-14 days               1   \n",
      "291132               1          1    1-14 days               1   \n",
      "291133               1          1    1-14 days               1   \n",
      "\n",
      "        Changes_Habits  Mental_Health_History  Mood_Swings  Coping_Struggles  \\\n",
      "3                   -1                      1            2                -1   \n",
      "4                   -1                      1            2                -1   \n",
      "5                   -1                      1            2                -1   \n",
      "6                   -1                      1            2                -1   \n",
      "7                   -1                      1            2                -1   \n",
      "...                ...                    ...          ...               ...   \n",
      "291129              -1                      1            1                -1   \n",
      "291130              -1                      1            1                -1   \n",
      "291131              -1                      1            1                -1   \n",
      "291132              -1                      1            1                -1   \n",
      "291133              -1                      1            1                -1   \n",
      "\n",
      "        Work_Interest  Social_Weakness  mental_health_interview  care_options  \n",
      "3                  -1                1                        0             1  \n",
      "4                  -1                1                       -1             1  \n",
      "5                  -1                1                        0             0  \n",
      "6                  -1                1                       -1             0  \n",
      "7                  -1                1                       -1            -1  \n",
      "...               ...              ...                      ...           ...  \n",
      "291129              0                0                        0             0  \n",
      "291130              0                0                       -1             1  \n",
      "291131              0                0                       -1            -1  \n",
      "291132              0                0                       -1             1  \n",
      "291133              0                0                       -1             1  \n",
      "\n",
      "[91319 rows x 17 columns]\n"
     ]
    }
   ],
   "source": [
    "cleaned_mental_health_data = clean_df_main[clean_df_main['Mental_Health_History'] == 1]\n",
    "print(cleaned_mental_health_data)"
   ]
  },
  {
   "cell_type": "code",
   "execution_count": 31,
   "metadata": {},
   "outputs": [
    {
     "data": {
      "text/plain": [
       "Timestamp                  object\n",
       "Gender                     object\n",
       "Country                    object\n",
       "Occupation                 object\n",
       "self_employed               int64\n",
       "family_history              int64\n",
       "treatment                   int64\n",
       "Days_Indoors               object\n",
       "Growing_Stress              int64\n",
       "Changes_Habits              int64\n",
       "Mental_Health_History       int64\n",
       "Mood_Swings                 int64\n",
       "Coping_Struggles            int64\n",
       "Work_Interest               int64\n",
       "Social_Weakness             int64\n",
       "mental_health_interview     int64\n",
       "care_options                int64\n",
       "dtype: object"
      ]
     },
     "execution_count": 31,
     "metadata": {},
     "output_type": "execute_result"
    }
   ],
   "source": [
    "cleaned_mental_health_data.dtypes"
   ]
  },
  {
   "cell_type": "code",
   "execution_count": 32,
   "metadata": {},
   "outputs": [],
   "source": [
    "# Export DataFrame to a CSV file\n",
    "cleaned_mental_health_data.to_csv('cleaned_mental_health_data.csv', index=False)\n"
   ]
  }
 ],
 "metadata": {
  "kernelspec": {
   "display_name": "Python 3",
   "language": "python",
   "name": "python3"
  },
  "language_info": {
   "codemirror_mode": {
    "name": "ipython",
    "version": 3
   },
   "file_extension": ".py",
   "mimetype": "text/x-python",
   "name": "python",
   "nbconvert_exporter": "python",
   "pygments_lexer": "ipython3",
   "version": "3.10.14"
  }
 },
 "nbformat": 4,
 "nbformat_minor": 2
}
