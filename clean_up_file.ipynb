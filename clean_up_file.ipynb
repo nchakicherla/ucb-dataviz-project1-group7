{
 "cells": [
  {
   "cell_type": "code",
   "execution_count": 1,
   "metadata": {},
   "outputs": [],
   "source": [
    "import pandas as pd\n",
    "from pathlib import Path\n",
    "import matplotlib.pyplot as plt\n",
    "import numpy as np"
   ]
  },
  {
   "cell_type": "code",
   "execution_count": 2,
   "metadata": {},
   "outputs": [
    {
     "data": {
      "text/html": [
       "<div>\n",
       "<style scoped>\n",
       "    .dataframe tbody tr th:only-of-type {\n",
       "        vertical-align: middle;\n",
       "    }\n",
       "\n",
       "    .dataframe tbody tr th {\n",
       "        vertical-align: top;\n",
       "    }\n",
       "\n",
       "    .dataframe thead th {\n",
       "        text-align: right;\n",
       "    }\n",
       "</style>\n",
       "<table border=\"1\" class=\"dataframe\">\n",
       "  <thead>\n",
       "    <tr style=\"text-align: right;\">\n",
       "      <th></th>\n",
       "      <th>Timestamp</th>\n",
       "      <th>Gender</th>\n",
       "      <th>Country</th>\n",
       "      <th>Occupation</th>\n",
       "      <th>self_employed</th>\n",
       "      <th>family_history</th>\n",
       "      <th>treatment</th>\n",
       "      <th>Days_Indoors</th>\n",
       "      <th>Growing_Stress</th>\n",
       "      <th>Changes_Habits</th>\n",
       "      <th>Mental_Health_History</th>\n",
       "      <th>Mood_Swings</th>\n",
       "      <th>Coping_Struggles</th>\n",
       "      <th>Work_Interest</th>\n",
       "      <th>Social_Weakness</th>\n",
       "      <th>mental_health_interview</th>\n",
       "      <th>care_options</th>\n",
       "    </tr>\n",
       "  </thead>\n",
       "  <tbody>\n",
       "    <tr>\n",
       "      <th>0</th>\n",
       "      <td>8/27/2014 11:29</td>\n",
       "      <td>Female</td>\n",
       "      <td>United States</td>\n",
       "      <td>Corporate</td>\n",
       "      <td>NaN</td>\n",
       "      <td>No</td>\n",
       "      <td>Yes</td>\n",
       "      <td>1-14 days</td>\n",
       "      <td>Yes</td>\n",
       "      <td>No</td>\n",
       "      <td>Yes</td>\n",
       "      <td>Medium</td>\n",
       "      <td>No</td>\n",
       "      <td>No</td>\n",
       "      <td>Yes</td>\n",
       "      <td>No</td>\n",
       "      <td>Not sure</td>\n",
       "    </tr>\n",
       "    <tr>\n",
       "      <th>1</th>\n",
       "      <td>8/27/2014 11:31</td>\n",
       "      <td>Female</td>\n",
       "      <td>United States</td>\n",
       "      <td>Corporate</td>\n",
       "      <td>NaN</td>\n",
       "      <td>Yes</td>\n",
       "      <td>Yes</td>\n",
       "      <td>1-14 days</td>\n",
       "      <td>Yes</td>\n",
       "      <td>No</td>\n",
       "      <td>Yes</td>\n",
       "      <td>Medium</td>\n",
       "      <td>No</td>\n",
       "      <td>No</td>\n",
       "      <td>Yes</td>\n",
       "      <td>No</td>\n",
       "      <td>No</td>\n",
       "    </tr>\n",
       "    <tr>\n",
       "      <th>2</th>\n",
       "      <td>8/27/2014 11:32</td>\n",
       "      <td>Female</td>\n",
       "      <td>United States</td>\n",
       "      <td>Corporate</td>\n",
       "      <td>NaN</td>\n",
       "      <td>Yes</td>\n",
       "      <td>Yes</td>\n",
       "      <td>1-14 days</td>\n",
       "      <td>Yes</td>\n",
       "      <td>No</td>\n",
       "      <td>Yes</td>\n",
       "      <td>Medium</td>\n",
       "      <td>No</td>\n",
       "      <td>No</td>\n",
       "      <td>Yes</td>\n",
       "      <td>No</td>\n",
       "      <td>Yes</td>\n",
       "    </tr>\n",
       "    <tr>\n",
       "      <th>3</th>\n",
       "      <td>8/27/2014 11:37</td>\n",
       "      <td>Female</td>\n",
       "      <td>United States</td>\n",
       "      <td>Corporate</td>\n",
       "      <td>No</td>\n",
       "      <td>Yes</td>\n",
       "      <td>Yes</td>\n",
       "      <td>1-14 days</td>\n",
       "      <td>Yes</td>\n",
       "      <td>No</td>\n",
       "      <td>Yes</td>\n",
       "      <td>Medium</td>\n",
       "      <td>No</td>\n",
       "      <td>No</td>\n",
       "      <td>Yes</td>\n",
       "      <td>Maybe</td>\n",
       "      <td>Yes</td>\n",
       "    </tr>\n",
       "    <tr>\n",
       "      <th>4</th>\n",
       "      <td>8/27/2014 11:43</td>\n",
       "      <td>Female</td>\n",
       "      <td>United States</td>\n",
       "      <td>Corporate</td>\n",
       "      <td>No</td>\n",
       "      <td>Yes</td>\n",
       "      <td>Yes</td>\n",
       "      <td>1-14 days</td>\n",
       "      <td>Yes</td>\n",
       "      <td>No</td>\n",
       "      <td>Yes</td>\n",
       "      <td>Medium</td>\n",
       "      <td>No</td>\n",
       "      <td>No</td>\n",
       "      <td>Yes</td>\n",
       "      <td>No</td>\n",
       "      <td>Yes</td>\n",
       "    </tr>\n",
       "  </tbody>\n",
       "</table>\n",
       "</div>"
      ],
      "text/plain": [
       "         Timestamp  Gender        Country Occupation self_employed  \\\n",
       "0  8/27/2014 11:29  Female  United States  Corporate           NaN   \n",
       "1  8/27/2014 11:31  Female  United States  Corporate           NaN   \n",
       "2  8/27/2014 11:32  Female  United States  Corporate           NaN   \n",
       "3  8/27/2014 11:37  Female  United States  Corporate            No   \n",
       "4  8/27/2014 11:43  Female  United States  Corporate            No   \n",
       "\n",
       "  family_history treatment Days_Indoors Growing_Stress Changes_Habits  \\\n",
       "0             No       Yes    1-14 days            Yes             No   \n",
       "1            Yes       Yes    1-14 days            Yes             No   \n",
       "2            Yes       Yes    1-14 days            Yes             No   \n",
       "3            Yes       Yes    1-14 days            Yes             No   \n",
       "4            Yes       Yes    1-14 days            Yes             No   \n",
       "\n",
       "  Mental_Health_History Mood_Swings Coping_Struggles Work_Interest  \\\n",
       "0                   Yes      Medium               No            No   \n",
       "1                   Yes      Medium               No            No   \n",
       "2                   Yes      Medium               No            No   \n",
       "3                   Yes      Medium               No            No   \n",
       "4                   Yes      Medium               No            No   \n",
       "\n",
       "  Social_Weakness mental_health_interview care_options  \n",
       "0             Yes                      No     Not sure  \n",
       "1             Yes                      No           No  \n",
       "2             Yes                      No          Yes  \n",
       "3             Yes                   Maybe          Yes  \n",
       "4             Yes                      No          Yes  "
      ]
     },
     "execution_count": 2,
     "metadata": {},
     "output_type": "execute_result"
    }
   ],
   "source": [
    "#https://www.kaggle.com/datasets/bhavikjikadara/mental-health-dataset\n",
    "df_main = pd.read_csv(\"files/Mental-Health-Dataset.csv\")\n",
    "df_main.head()\n"
   ]
  },
  {
   "cell_type": "code",
   "execution_count": 3,
   "metadata": {},
   "outputs": [
    {
     "name": "stdout",
     "output_type": "stream",
     "text": [
      "Number of rows: 292364\n"
     ]
    }
   ],
   "source": [
    "num_rows = len(df_main)\n",
    "print(\"Number of rows:\", num_rows)"
   ]
  },
  {
   "cell_type": "code",
   "execution_count": 4,
   "metadata": {},
   "outputs": [
    {
     "data": {
      "text/plain": [
       "Timestamp                  object\n",
       "Gender                     object\n",
       "Country                    object\n",
       "Occupation                 object\n",
       "self_employed              object\n",
       "family_history             object\n",
       "treatment                  object\n",
       "Days_Indoors               object\n",
       "Growing_Stress             object\n",
       "Changes_Habits             object\n",
       "Mental_Health_History      object\n",
       "Mood_Swings                object\n",
       "Coping_Struggles           object\n",
       "Work_Interest              object\n",
       "Social_Weakness            object\n",
       "mental_health_interview    object\n",
       "care_options               object\n",
       "dtype: object"
      ]
     },
     "execution_count": 4,
     "metadata": {},
     "output_type": "execute_result"
    }
   ],
   "source": [
    "df_main.dtypes"
   ]
  },
  {
   "cell_type": "code",
   "execution_count": 5,
   "metadata": {},
   "outputs": [
    {
     "name": "stdout",
     "output_type": "stream",
     "text": [
      "Number of rows with blank values: 5202\n"
     ]
    }
   ],
   "source": [
    "# Count number of rows with blank values\n",
    "num_rows_with_blank_values = df_main.isna().any(axis=1).sum()\n",
    "\n",
    "# Print the number of rows with blank values\n",
    "print(\"Number of rows with blank values:\", num_rows_with_blank_values)\n"
   ]
  },
  {
   "cell_type": "code",
   "execution_count": 6,
   "metadata": {},
   "outputs": [
    {
     "name": "stdout",
     "output_type": "stream",
     "text": [
      "Number of rows in the cleaned DataFrame: 287162\n"
     ]
    }
   ],
   "source": [
    "# Drop rows with NaN values and create a new DataFrame\n",
    "clean_df_main = df_main.dropna()\n",
    "\n",
    "# Count number of rows in the cleaned DataFrame\n",
    "clean_num_rows = len(clean_df_main)\n",
    "\n",
    "# Print the number of rows\n",
    "print(\"Number of rows in the cleaned DataFrame:\", clean_num_rows)\n"
   ]
  },
  {
   "cell_type": "code",
   "execution_count": 7,
   "metadata": {},
   "outputs": [
    {
     "name": "stdout",
     "output_type": "stream",
     "text": [
      "Index(['Timestamp', 'Gender', 'Country', 'Occupation', 'self_employed',\n",
      "       'family_history', 'treatment', 'Days_Indoors', 'Growing_Stress',\n",
      "       'Changes_Habits', 'Mental_Health_History', 'Mood_Swings',\n",
      "       'Coping_Struggles', 'Work_Interest', 'Social_Weakness',\n",
      "       'mental_health_interview', 'care_options'],\n",
      "      dtype='object')\n"
     ]
    }
   ],
   "source": [
    "print(clean_df_main.columns)"
   ]
  },
  {
   "cell_type": "markdown",
   "metadata": {},
   "source": [
    "#Timestamp                  DROP\n",
    "#Gender                     object\n",
    "#Country                    object\n",
    "#Occupation                 object\n",
    "#self_employed              object\n",
    "#family_history             Yes = 1, No = - 1, Maybe = 0\n",
    "#treatment                  object\n",
    "#Days_Indoors               object\n",
    "#Growing_Stress             Yes = 1, No = - 1, Maybe = 0\n",
    "#Changes_Habits             Yes = 1, No = - 1, Maybe = 0\n",
    "#Mental_Health_History      object\n",
    "#Mood_Swings                Low -1 Medium 0 High 1\n",
    "#Coping_Struggles           Yes = 1, No = - 1, Maybe = 0\n",
    "#Work_Interest              Yes = -1, No = 1, Maybe = 0\n",
    "#Social_Weakness            Yes = 1, No = - 1, Maybe = 0\n",
    "#mental_health_interview    object\n",
    "#care_options               object"
   ]
  },
  {
   "cell_type": "code",
   "execution_count": 16,
   "metadata": {},
   "outputs": [
    {
     "name": "stdout",
     "output_type": "stream",
     "text": [
      "         Timestamp  Gender        Country Occupation self_employed  \\\n",
      "3  8/27/2014 11:37  Female  United States  Corporate            No   \n",
      "4  8/27/2014 11:43  Female  United States  Corporate            No   \n",
      "5  8/27/2014 11:49  Female         Poland  Corporate            No   \n",
      "6  8/27/2014 11:51  Female      Australia  Corporate            No   \n",
      "7  8/27/2014 11:52  Female  United States  Corporate            No   \n",
      "\n",
      "   family_history treatment Days_Indoors  Growing_Stress  Changes_Habits  \\\n",
      "3               1       Yes    1-14 days               1              -1   \n",
      "4               1       Yes    1-14 days               1              -1   \n",
      "5              -1       Yes    1-14 days               1              -1   \n",
      "6               1       Yes    1-14 days               1              -1   \n",
      "7              -1        No    1-14 days               1              -1   \n",
      "\n",
      "  Mental_Health_History  Mood_Swings  Coping_Struggles  Work_Interest  \\\n",
      "3                   Yes            0                -1              1   \n",
      "4                   Yes            0                -1              1   \n",
      "5                   Yes            0                -1              1   \n",
      "6                   Yes            0                -1              1   \n",
      "7                   Yes            0                -1              1   \n",
      "\n",
      "   Social_Weakness mental_health_interview care_options  \n",
      "3                1                   Maybe          Yes  \n",
      "4                1                      No          Yes  \n",
      "5                1                   Maybe     Not sure  \n",
      "6                1                      No     Not sure  \n",
      "7                1                      No           No  \n"
     ]
    }
   ],
   "source": [
    "\n",
    "\n",
    "# Create a copy of the DataFrame\n",
    "clean_df_main = clean_df_main.copy()\n",
    "\n",
    "# Define a mapping dictionary (standard)\n",
    "standard_mapping = {'Yes': 1, 'No': -1, 'Maybe': 0, 'Not sure': 0}\n",
    "\n",
    "# Define the columns to be replaced and converted to integers\n",
    "columns_to_convert = ['family_history', 'Growing_Stress', 'Changes_Habits', 'Coping_Struggles', 'Social_Weakness']\n",
    "\n",
    "# Replace the values in the specified columns using .replace and .loc\n",
    "clean_df_main.loc[:, columns_to_convert] = clean_df_main.loc[:, columns_to_convert].replace(standard_mapping)\n",
    "\n",
    "# Convert the column dtypes to integer using .astype('Int64')\n",
    "clean_df_main[columns_to_convert] = clean_df_main[columns_to_convert].astype('Int64')\n",
    "\n",
    "# Map Mood_Swings values to numeric values\n",
    "mood_mapping = {'Low': -1, 'Medium': 0, 'High': 1}\n",
    "\n",
    "# Replace Mood_Swings values with numeric equivalents using .replace and .loc\n",
    "clean_df_main.loc[:, 'Mood_Swings'] = clean_df_main.loc[:, 'Mood_Swings'].replace(mood_mapping)\n",
    "\n",
    "# Convert the Mood_Swings column dtype to integer using .astype('Int64')\n",
    "clean_df_main['Mood_Swings'] = clean_df_main['Mood_Swings'].astype('Int64')\n",
    "\n",
    "# Map Work_Interest values to numeric values\n",
    "work_interest_mapping = {'Yes': -1, 'No': 1, 'Maybe': 0}\n",
    "\n",
    "# Replace Work_Interest values with numeric equivalents using .replace and .loc\n",
    "clean_df_main.loc[:, 'Work_Interest'] = clean_df_main.loc[:, 'Work_Interest'].replace(work_interest_mapping)\n",
    "\n",
    "# Convert the Work_Interest column dtype to integer using .astype('Int64')\n",
    "clean_df_main['Work_Interest'] = clean_df_main['Work_Interest'].astype('Int64')\n",
    "\n",
    "\n",
    "# Display the updated DataFrame\n",
    "print(clean_df_main.head())\n"
   ]
  },
  {
   "cell_type": "code",
   "execution_count": 17,
   "metadata": {},
   "outputs": [
    {
     "name": "stdout",
     "output_type": "stream",
     "text": [
      "Number of rows: 287162\n"
     ]
    }
   ],
   "source": [
    "# Count the number of rows in the DataFrame\n",
    "num_rows = clean_df_main.shape[0]\n",
    "\n",
    "# Print the number of rows\n",
    "print(\"Number of rows:\", num_rows)\n"
   ]
  },
  {
   "cell_type": "code",
   "execution_count": 19,
   "metadata": {},
   "outputs": [
    {
     "data": {
      "text/plain": [
       "Timestamp                  object\n",
       "Gender                     object\n",
       "Country                    object\n",
       "Occupation                 object\n",
       "self_employed              object\n",
       "family_history              Int64\n",
       "treatment                  object\n",
       "Days_Indoors               object\n",
       "Growing_Stress              Int64\n",
       "Changes_Habits              Int64\n",
       "Mental_Health_History      object\n",
       "Mood_Swings                 Int64\n",
       "Coping_Struggles            Int64\n",
       "Work_Interest               Int64\n",
       "Social_Weakness             Int64\n",
       "mental_health_interview    object\n",
       "care_options               object\n",
       "dtype: object"
      ]
     },
     "execution_count": 19,
     "metadata": {},
     "output_type": "execute_result"
    }
   ],
   "source": [
    "clean_df_main.dtypes"
   ]
  },
  {
   "cell_type": "code",
   "execution_count": 20,
   "metadata": {},
   "outputs": [],
   "source": [
    "# Export DataFrame to a CSV file\n",
    "clean_df_main.to_csv('clean_df_main.csv', index=False)\n"
   ]
  }
 ],
 "metadata": {
  "kernelspec": {
   "display_name": "Python 3",
   "language": "python",
   "name": "python3"
  },
  "language_info": {
   "codemirror_mode": {
    "name": "ipython",
    "version": 3
   },
   "file_extension": ".py",
   "mimetype": "text/x-python",
   "name": "python",
   "nbconvert_exporter": "python",
   "pygments_lexer": "ipython3",
   "version": "3.12.3"
  }
 },
 "nbformat": 4,
 "nbformat_minor": 2
}
