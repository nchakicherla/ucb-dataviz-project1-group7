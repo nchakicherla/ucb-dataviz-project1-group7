{
 "cells": [
  {
   "cell_type": "markdown",
   "id": "5e7619e9-1e02-40d3-98b6-0433e798c86b",
   "metadata": {},
   "source": [
    "Naveen Chakicherla - Differences in derived mental health severity scores between US and non-US samples\n",
    "\n",
    "Null hypothesis: There is no statistically significant difference between median mental health severity scores between US and non-US populations\n",
    "\n",
    "Alternate hypothesis: The median mental health severity of the US population is less than that of populations outside of the US.\n",
    "\n",
    "Results: 1 // The p-value obtained from our Mann-Whitney U-test exceeds our alpha value of 0.05, so we fail to reject our null hypothesis. 2 // The p-value obtained from our additional one-sided two-sample t-test exceeds our alpha of 0.05, so we fail to reject our null hypothesis\n",
    "        "
   ]
  },
  {
   "cell_type": "code",
   "execution_count": 1,
   "id": "ffed3b49-dcb1-41fd-bf46-68c16e1fe426",
   "metadata": {},
   "outputs": [],
   "source": [
    "## Import Python modules as appropriate\n",
    "\n",
    "from pathlib import Path\n",
    "from numpy import number\n",
    "import pandas as pd\n",
    "import pprint\n",
    "import scipy.stats as st\n",
    "import matplotlib.pyplot as plt"
   ]
  },
  {
   "cell_type": "code",
   "execution_count": 2,
   "id": "b4274969-4973-4f4d-a876-77aed6ac64e4",
   "metadata": {},
   "outputs": [],
   "source": [
    "## Establish path of initial .csv data and read into DataFrame\n",
    "\n",
    "csv_path = Path(\"./df_factors.csv\")\n",
    "orig_df = pd.read_csv(csv_path)"
   ]
  },
  {
   "cell_type": "code",
   "execution_count": 3,
   "id": "941b6460-17df-4437-b83e-25ecc6690d51",
   "metadata": {},
   "outputs": [
    {
     "name": "stdout",
     "output_type": "stream",
     "text": [
      "mental_health_severity    -4    -3     -2     -1      0      1      2     3  \\\n",
      "country                                                                       \n",
      "Australia                 98   341    767   1131   1370   1149    761   340   \n",
      "Belgium                   14    45     99    155    185    163    108    43   \n",
      "Bosnia and Herzegovina     6    23     53     73     90     71     47    24   \n",
      "Brazil                    36   138    318    438    540    426    282   144   \n",
      "Canada                   282  1003   2269   3293   4005   3313   2194  1011   \n",
      "Colombia                   6    23     53     73     90     71     47    24   \n",
      "Costa Rica                 6    23     53     73     90     71     47    24   \n",
      "Croatia                    6    23     53     73     90     71     47    24   \n",
      "Czech Republic             6    23     53     73     90     71     47    24   \n",
      "Denmark                   12    46    106    146    180    142     94    48   \n",
      "Finland                    6    23     53     73     90     71     47    24   \n",
      "France                    36   138    318    438    540    426    282   144   \n",
      "Georgia                    6    23     53     73     90     71     47    24   \n",
      "Germany                   72   276    636    876   1080    852    564   288   \n",
      "Greece                    12    46    106    146    180    142     94    48   \n",
      "India                     44   160    364    520    635    518    343   163   \n",
      "Ireland                   88   320    728   1040   1270   1036    686   326   \n",
      "Israel                    24    92    212    292    360    284    188    96   \n",
      "Italy                     24    92    212    292    360    284    188    96   \n",
      "Mexico                     6    23     53     73     90     71     47    24   \n",
      "Moldova                    6    23     53     73     90     71     47    24   \n",
      "Netherlands               92   344    788   1104   1355   1086    719   355   \n",
      "New Zealand               32   114    258    374    455    376    249   115   \n",
      "Nigeria                    6    23     53     73     90     71     47    24   \n",
      "Philippines                6    23     53     73     90     71     47    24   \n",
      "Poland                    14    45     99    155    185    163    108    43   \n",
      "Portugal                   6    23     53     73     90     71     47    24   \n",
      "Russia                    12    46    106    146    180    142     94    48   \n",
      "Singapore                 12    46    106    146    180    142     94    48   \n",
      "South Africa              32   114    258    374    455    376    249   115   \n",
      "Sweden                    46   159    357    529    640    539    357   158   \n",
      "Switzerland               24    92    212    292    360    284    188    96   \n",
      "Thailand                   6    23     53     73     90     71     47    24   \n",
      "United Kingdom           800  2928   6672   9488  11600   9424   6240  2992   \n",
      "United States           2690  9627  21813  31517  38375  31621  20940  9733   \n",
      "\n",
      "mental_health_severity     4  n_points  \n",
      "country                                 \n",
      "Australia                 69      6026  \n",
      "Belgium                   12       824  \n",
      "Bosnia and Herzegovina     3       390  \n",
      "Brazil                    18      2340  \n",
      "Canada                   186     17556  \n",
      "Colombia                   3       390  \n",
      "Costa Rica                 3       390  \n",
      "Croatia                    3       390  \n",
      "Czech Republic             3       390  \n",
      "Denmark                    6       780  \n",
      "Finland                    3       390  \n",
      "France                    18      2340  \n",
      "Georgia                    3       390  \n",
      "Germany                   36      4680  \n",
      "Greece                     6       780  \n",
      "India                     27      2774  \n",
      "Ireland                   54      5548  \n",
      "Israel                    12      1560  \n",
      "Italy                     12      1560  \n",
      "Mexico                     3       390  \n",
      "Moldova                    3       390  \n",
      "Netherlands               51      5894  \n",
      "New Zealand               21      1994  \n",
      "Nigeria                    3       390  \n",
      "Philippines                3       390  \n",
      "Poland                    12       824  \n",
      "Portugal                   3       390  \n",
      "Russia                     6       780  \n",
      "Singapore                  6       780  \n",
      "South Africa              21      1994  \n",
      "Sweden                    33      2818  \n",
      "Switzerland               12      1560  \n",
      "Thailand                   3       390  \n",
      "United Kingdom           480     50624  \n",
      "United States           1740    168056  \n"
     ]
    }
   ],
   "source": [
    "## 1. Create working_df breakout table by using groupby method and derived mental_health_severity factor\n",
    "\n",
    "working_df = orig_df.groupby(\"country\")[\"mental_health_severity\"].value_counts().unstack(fill_value=0)\n",
    "\n",
    "## 2. New column \"n_points\" is created to track total number of measurements per country\n",
    "working_df[\"n_points\"] = working_df.sum(axis=1)\n",
    "\n",
    "pprint.pp(working_df)"
   ]
  },
  {
   "cell_type": "code",
   "execution_count": 4,
   "id": "b1cf44cf-e293-454d-9237-67e763c2ac0c",
   "metadata": {},
   "outputs": [
    {
     "name": "stdout",
     "output_type": "stream",
     "text": [
      "                   country  severity\n",
      "0                Australia  3.981248\n",
      "1                  Belgium  4.014563\n",
      "2   Bosnia and Herzegovina  3.941026\n",
      "3                   Brazil  3.941026\n",
      "4                   Canada  3.972089\n",
      "5                 Colombia  3.941026\n",
      "6               Costa Rica  3.941026\n",
      "7                  Croatia  3.941026\n",
      "8           Czech Republic  3.941026\n",
      "9                  Denmark  3.941026\n",
      "10                 Finland  3.941026\n",
      "11                  France  3.941026\n",
      "12                 Georgia  3.941026\n",
      "13                 Germany  3.941026\n",
      "14                  Greece  3.941026\n",
      "15                   India  3.962870\n",
      "16                 Ireland  3.962870\n",
      "17                  Israel  3.941026\n",
      "18                   Italy  3.941026\n",
      "19                  Mexico  3.941026\n",
      "20                 Moldova  3.941026\n",
      "21             Netherlands  3.951306\n",
      "22             New Zealand  3.971414\n",
      "23                 Nigeria  3.941026\n",
      "24             Philippines  3.941026\n",
      "25                  Poland  4.014563\n",
      "26                Portugal  3.941026\n",
      "27                  Russia  3.941026\n",
      "28               Singapore  3.941026\n",
      "29            South Africa  3.971414\n",
      "30                  Sweden  3.984031\n",
      "31             Switzerland  3.941026\n",
      "32                Thailand  3.941026\n",
      "33          United Kingdom  3.960177\n",
      "34           United States  3.969510\n",
      "country     United States\n",
      "severity         4.014563\n",
      "dtype: object\n"
     ]
    }
   ],
   "source": [
    "## 1. Proportions of each mental health score measured per country are calculated by dividing # of occurrences of each integer value by n_points for the country.\n",
    "columns = working_df.columns.tolist()\n",
    "for elem in columns:\n",
    "    if elem in working_df.columns:\n",
    "        working_df_prop = working_df.div(working_df[elem], axis=0)\n",
    "\n",
    "## 2. For calculation of per-country mean mental health measurement, traverse range of possible integer values [-6 , 6] measured in each country. Ratios of each value are multiplied by value. and pushed to country_prop_dict.\n",
    "country_prop_dict = {}\n",
    "\n",
    "for country in working_df_prop.index:\n",
    "    country_weighted_total = 0;\n",
    "    for i in range(len(working_df_prop.loc[country]) - 1):\n",
    "\n",
    "        country_weighted_total += i * working_df_prop.loc[country].iloc[i]\n",
    "\n",
    "    country_prop_dict[country] = country_weighted_total\n",
    "    country_weighted_total = 0\n",
    "    \n",
    "## 3. Once totals are numerated in lookup dictionary, results_df is created with country and its mean weighted mental health severity score.\n",
    "results_df = pd.DataFrame(country_prop_dict.items(), columns=[\"country\", \"severity\"])\n",
    "pprint.pp(results_df)\n",
    "print(results_df.max(axis=0))"
   ]
  },
  {
   "cell_type": "code",
   "execution_count": 5,
   "id": "fa8076f4-b158-4d1e-afd8-7239368e3c25",
   "metadata": {},
   "outputs": [
    {
     "name": "stdout",
     "output_type": "stream",
     "text": [
      "Total # of data points: 287162\n"
     ]
    }
   ],
   "source": [
    "## 1. Calculate, store, and print total number of points for reference.\n",
    "\n",
    "n_points_list = working_df[\"n_points\"].to_list()\n",
    "results_df[\"n_points\"] = n_points_list\n",
    "\n",
    "n_points_total = results_df[\"n_points\"].sum(axis=0)\n",
    "print(\"Total # of data points: \" + str(n_points_total))\n",
    "\n",
    "## 2. Calculate ratio of measurements calculate in each country, as proportion of total number of points. This is to prevent exaggeration of measurements from low-count countries when summing for comparison with US.\n",
    "results_df[\"n_points_prop\"] = results_df[\"n_points\"].div(n_points_total, axis=0)"
   ]
  },
  {
   "cell_type": "code",
   "execution_count": 6,
   "id": "ba6be8f8-451e-48fb-bc99-d2290da9fb38",
   "metadata": {},
   "outputs": [
    {
     "name": "stdout",
     "output_type": "stream",
     "text": [
      "                   country  severity  n_points  n_points_prop  \\\n",
      "0                Australia  3.981248      6026       0.020985   \n",
      "1                  Belgium  4.014563       824       0.002869   \n",
      "2   Bosnia and Herzegovina  3.941026       390       0.001358   \n",
      "3                   Brazil  3.941026      2340       0.008149   \n",
      "4                   Canada  3.972089     17556       0.061136   \n",
      "5                 Colombia  3.941026       390       0.001358   \n",
      "6               Costa Rica  3.941026       390       0.001358   \n",
      "7                  Croatia  3.941026       390       0.001358   \n",
      "8           Czech Republic  3.941026       390       0.001358   \n",
      "9                  Denmark  3.941026       780       0.002716   \n",
      "10                 Finland  3.941026       390       0.001358   \n",
      "11                  France  3.941026      2340       0.008149   \n",
      "12                 Georgia  3.941026       390       0.001358   \n",
      "13                 Germany  3.941026      4680       0.016297   \n",
      "14                  Greece  3.941026       780       0.002716   \n",
      "15                   India  3.962870      2774       0.009660   \n",
      "16                 Ireland  3.962870      5548       0.019320   \n",
      "17                  Israel  3.941026      1560       0.005432   \n",
      "18                   Italy  3.941026      1560       0.005432   \n",
      "19                  Mexico  3.941026       390       0.001358   \n",
      "20                 Moldova  3.941026       390       0.001358   \n",
      "21             Netherlands  3.951306      5894       0.020525   \n",
      "22             New Zealand  3.971414      1994       0.006944   \n",
      "23                 Nigeria  3.941026       390       0.001358   \n",
      "24             Philippines  3.941026       390       0.001358   \n",
      "25                  Poland  4.014563       824       0.002869   \n",
      "26                Portugal  3.941026       390       0.001358   \n",
      "27                  Russia  3.941026       780       0.002716   \n",
      "28               Singapore  3.941026       780       0.002716   \n",
      "29            South Africa  3.971414      1994       0.006944   \n",
      "30                  Sweden  3.984031      2818       0.009813   \n",
      "31             Switzerland  3.941026      1560       0.005432   \n",
      "32                Thailand  3.941026       390       0.001358   \n",
      "33          United Kingdom  3.960177     50624       0.176291   \n",
      "34           United States  3.969510    168056       0.585231   \n",
      "\n",
      "    weighted_severity  \n",
      "0            0.083545  \n",
      "1            0.011520  \n",
      "2            0.005352  \n",
      "3            0.032114  \n",
      "4            0.242839  \n",
      "5            0.005352  \n",
      "6            0.005352  \n",
      "7            0.005352  \n",
      "8            0.005352  \n",
      "9            0.010705  \n",
      "10           0.005352  \n",
      "11           0.032114  \n",
      "12           0.005352  \n",
      "13           0.064229  \n",
      "14           0.010705  \n",
      "15           0.038282  \n",
      "16           0.076563  \n",
      "17           0.021410  \n",
      "18           0.021410  \n",
      "19           0.005352  \n",
      "20           0.005352  \n",
      "21           0.081101  \n",
      "22           0.027577  \n",
      "23           0.005352  \n",
      "24           0.005352  \n",
      "25           0.011520  \n",
      "26           0.005352  \n",
      "27           0.010705  \n",
      "28           0.010705  \n",
      "29           0.027577  \n",
      "30           0.039096  \n",
      "31           0.021410  \n",
      "32           0.005352  \n",
      "33           0.698143  \n",
      "34           2.323079  \n"
     ]
    }
   ],
   "source": [
    "## Establish new column in results_df which has mean severity rating for each country adjusted for its population as a proportion of n_points_total. Print updated table for reference.\n",
    "\n",
    "weighted_severity_list = results_df[\"severity\"].to_list()\n",
    "n_points_prop_list = results_df[\"n_points_prop\"].to_list()\n",
    "\n",
    "for i in range(len(weighted_severity_list)):\n",
    "    weighted_severity_list[i] = weighted_severity_list[i] * n_points_prop_list[i]\n",
    "\n",
    "results_df[\"weighted_severity\"] = weighted_severity_list\n",
    "pprint.pp(results_df)"
   ]
  },
  {
   "cell_type": "code",
   "execution_count": 7,
   "id": "7f1df36b-bc90-4564-b08b-00fe5a7afb2e",
   "metadata": {},
   "outputs": [],
   "source": [
    "## Since we know United States is the last row, we can find its severity directly. Non-US countries are enumerated using range.\n",
    "\n",
    "n_rows = len(results_df)\n",
    "\n",
    "us_severity = results_df.values[n_rows - 1][4]\n",
    "non_us_severity = 0\n",
    "\n",
    "for i in range(n_rows - 2):\n",
    "    non_us_severity += results_df.values[i][4]"
   ]
  },
  {
   "cell_type": "code",
   "execution_count": 8,
   "id": "60b9534e-a06a-4b05-86c7-c319e90b0977",
   "metadata": {},
   "outputs": [
    {
     "name": "stdout",
     "output_type": "stream",
     "text": [
      "              country  severity\n",
      "0       United States         1\n",
      "1       United States         1\n",
      "2              Poland         1\n",
      "3           Australia         1\n",
      "4       United States         1\n",
      "...               ...       ...\n",
      "287157  United States         1\n",
      "287158   South Africa         1\n",
      "287159  United States         1\n",
      "287160  United States         1\n",
      "287161  United States         1\n",
      "\n",
      "[287162 rows x 2 columns]\n"
     ]
    }
   ],
   "source": [
    "## Establish new working DataFrame for statistical test. Print new DF for reference.\n",
    "\n",
    "country_score_slices_df = pd.DataFrame()\n",
    "country_score_slices_df[\"country\"] = orig_df[\"country\"].copy()\n",
    "country_score_slices_df[\"severity\"] = orig_df[\"mental_health_severity\"].copy()\n",
    "\n",
    "pprint.pp(country_score_slices_df)"
   ]
  },
  {
   "cell_type": "code",
   "execution_count": 9,
   "id": "44a64af8-717f-4622-8227-1a653003f0b4",
   "metadata": {},
   "outputs": [
    {
     "name": "stdout",
     "output_type": "stream",
     "text": [
      "US measurements:\n",
      "              country  severity\n",
      "0       United States         1\n",
      "1       United States         1\n",
      "4       United States         1\n",
      "5       United States         1\n",
      "6       United States         1\n",
      "...               ...       ...\n",
      "287156  United States         1\n",
      "287157  United States         1\n",
      "287159  United States         1\n",
      "287160  United States         1\n",
      "287161  United States         1\n",
      "\n",
      "[168056 rows x 2 columns]\n",
      "Non-US measurements\n",
      "               country  severity\n",
      "2               Poland         1\n",
      "3            Australia         1\n",
      "10              Canada         1\n",
      "12      United Kingdom         1\n",
      "14        South Africa         1\n",
      "...                ...       ...\n",
      "287150          Canada         1\n",
      "287153          Poland         1\n",
      "287154         Ireland         1\n",
      "287155       Australia         1\n",
      "287158    South Africa         1\n",
      "\n",
      "[119106 rows x 2 columns]\n"
     ]
    }
   ],
   "source": [
    "## Split working DF into DFs for US and non-US measurements. These will be the samples for statistical comparison test. Print split DFs for reference.\n",
    "\n",
    "us_df = country_score_slices_df[country_score_slices_df.country == \"United States\"]\n",
    "non_us_df = country_score_slices_df[country_score_slices_df.country != \"United States\"]\n",
    "\n",
    "print(\"US measurements:\")\n",
    "pprint.pp(us_df)\n",
    "print(\"Non-US measurements\")\n",
    "pprint.pp(non_us_df)"
   ]
  },
  {
   "cell_type": "code",
   "execution_count": 10,
   "id": "f510cd8a-8801-4ff9-8cdc-75ed226c7a69",
   "metadata": {},
   "outputs": [
    {
     "name": "stdout",
     "output_type": "stream",
     "text": [
      "us mean: -0.03048983672109297\n",
      "non-us mean: -0.03913320907426998\n"
     ]
    }
   ],
   "source": [
    "## Calculate and print mean severity scores for US and non US data points.\n",
    "\n",
    "us_avg = us_df[\"severity\"].mean()\n",
    "non_us_avg = non_us_df[\"severity\"].mean()\n",
    "print(\"us mean: \"+ str(us_avg))\n",
    "print(\"non-us mean: \" + str(non_us_avg))"
   ]
  },
  {
   "cell_type": "code",
   "execution_count": 11,
   "id": "7d9b6128-cc0b-43a2-be75-0ab861c41315",
   "metadata": {},
   "outputs": [
    {
     "name": "stdout",
     "output_type": "stream",
     "text": [
      "NormaltestResult(statistic=array([2875.50621304]), pvalue=array([0.]))\n",
      "NormaltestResult(statistic=array([2186.11473397]), pvalue=array([0.]))\n"
     ]
    }
   ],
   "source": [
    "## We test for normality within our US and non-US samples. Due to the resulting low p-value, we can't conclude that the underlying population distributions are normal. Print results for reference.\n",
    "\n",
    "us_severity_list = us_df[\"severity\"].to_list()\n",
    "non_us_severity_list = non_us_df[\"severity\"].to_list()\n",
    "\n",
    "print(st.normaltest(us_df[[\"severity\"]]))\n",
    "print(st.normaltest(non_us_df[[\"severity\"]]))"
   ]
  },
  {
   "cell_type": "code",
   "execution_count": 12,
   "id": "dd4d1a50-3488-408a-a3ed-3d43886a1ae9",
   "metadata": {},
   "outputs": [
    {
     "name": "stdout",
     "output_type": "stream",
     "text": [
      "MannwhitneyuResult(statistic=10038884674.0, pvalue=0.9224106675887707)\n",
      "Test statistic: 10038884674.0\n",
      "P-value: 0.9224106675887707\n"
     ]
    }
   ],
   "source": [
    "# To establish a 95% confidence-level, alpha is set to 0.05. \n",
    "alpha = 0.05\n",
    "\n",
    "# One-sided Mann-Whitney U-test is performed due to large data set, derived nature of our calculated mental health factor, and lack of normality in our populations. Independence between datasets is known, and distributions have similar shapes as shown in histogram below.\n",
    "print(st.mannwhitneyu(us_severity_list, non_us_severity_list, alternative=\"less\", axis=0, nan_policy=\"raise\"))\n",
    "\n",
    "test_stat, p_value = st.mannwhitneyu(us_severity_list, non_us_severity_list, alternative=\"less\", axis=0, nan_policy=\"raise\")\n",
    "\n",
    "print(\"Test statistic: \" + str(test_stat))\n",
    "print(\"P-value: \" + str(p_value))\n",
    "\n",
    "## Mann-Whitney U-test tests for a difference in distribution or difference in median between populations. Because the shape of our sample data is similar for both datasets, the results of the test make inferences on a difference in median.\n",
    "##\n",
    "## The high p-value suggests that at our confidence level of 95%, we fail to reject the null-hypothesis, and conclude that there is no statistically significant difference in median mental health severity between US and non-US popualtions."
   ]
  },
  {
   "cell_type": "code",
   "execution_count": 13,
   "id": "46678374-5964-47c2-80af-50acee97647d",
   "metadata": {},
   "outputs": [
    {
     "name": "stdout",
     "output_type": "stream",
     "text": [
      "Fail to reject Null Hypothesis: P-value is greater than alpha, so we fail to reject our null hypothesis. There is no statistically significant difference between median mental health severity of US vs non-US populations\n"
     ]
    }
   ],
   "source": [
    "if p_value < alpha:\n",
    "    print(\"Reject Null Hypothesis: P-value is less than alpha, so null-hypothesis is rejected. There is a statistically significant difference between median mental health severity of US and non-US populations.\")\n",
    "else:\n",
    "    print(\"Fail to reject Null Hypothesis: P-value is greater than alpha, so we fail to reject our null hypothesis. There is no statistically significant difference between median mental health severity of US vs non-US populations\")"
   ]
  },
  {
   "cell_type": "code",
   "execution_count": 14,
   "id": "c7ae5cb7-495d-441f-8dab-141c65dcb08b",
   "metadata": {},
   "outputs": [],
   "source": [
    "## Despite the non-normality of our distributions, a one-sided two-sample independence t-test can be performed\n",
    "## due to the large sample sizes.\n",
    "## \n",
    "## The sampling distribution of the populations would approximate normality when the sample size is large enough. "
   ]
  },
  {
   "cell_type": "code",
   "execution_count": 15,
   "id": "004b100f-9076-40ae-978a-5d9e0a544ce6",
   "metadata": {},
   "outputs": [
    {
     "data": {
      "image/png": "[encoded data removed]",
      "text/plain": [
       "<Figure size 640x480 with 1 Axes>"
      ]
     },
     "metadata": {},
     "output_type": "display_data"
    }
   ],
   "source": [
    "## Create histogram representing distribution of mental health severity scores for US and non-US samples.\n",
    "plt.hist(us_severity_list, bins=12, edgecolor=\"black\", color=\"skyblue\", alpha=0.7, label=\"US severity ratings\")\n",
    "plt.hist(non_us_severity_list, bins=12, edgecolor=\"black\", color=\"salmon\", alpha=0.7, label=\"Non-US severity ratings\")\n",
    "\n",
    "## Establish labels for axes and legend for differentiation of plotted distributions.\n",
    "plt.xlabel(\"Mental Health Severity Metric\")\n",
    "plt.ylabel(\"# of Measurements\")\n",
    "plt.title(\"Comparison of US and non-US Mental Health Severity Scores\")\n",
    "\n",
    "## Render graphic.\n",
    "plt.legend(title=\"Mental Health Severity of US and non-US samples\", fontsize=\"small\")\n",
    "plt.show()"
   ]
  },
  {
   "cell_type": "code",
   "execution_count": 16,
   "id": "5d7248a8-f577-4633-a663-8f797e3e4d05",
   "metadata": {},
   "outputs": [
    {
     "data": {
      "image/png": "[encoded data removed]",
      "text/plain": [
       "<Figure size 640x480 with 1 Axes>"
      ]
     },
     "metadata": {},
     "output_type": "display_data"
    }
   ],
   "source": [
    "## Create side-by-side violin plots representing distribution of mental health severity scores for US and non-US samples. Plots show similar comparison as histrogram but more specificity. Not as helpful due to ordinal nature of measurements.\n",
    "fig, ax = plt.subplots()\n",
    "\n",
    "parts = ax.violinplot([us_severity_list, non_us_severity_list], showmeans=False, showmedians=True)\n",
    "\n",
    "## Apply similar colors as histogram.\n",
    "colors = ['skyblue', 'salmon', 'lightgreen']\n",
    "for i, pc in enumerate(parts['bodies']):\n",
    "    pc.set_facecolor(colors[i])\n",
    "\n",
    "## Apply labels to different plots.\n",
    "ax.set_xlabel('Dataset')\n",
    "ax.set_ylabel('Severity Score')\n",
    "ax.set_title('Severity Measurement Distributions')\n",
    "\n",
    "## Customize x-axis labels to differentiate populations.\n",
    "ax.set_xticks([1, 2])\n",
    "ax.set_xticklabels(['US Measurements', 'Non-US Measurements'])\n",
    "\n",
    "## Render graphic.\n",
    "plt.show()"
   ]
  },
  {
   "cell_type": "code",
   "execution_count": 17,
   "id": "0f8f33f3-7cc1-4a97-9f68-da80bbb67243",
   "metadata": {},
   "outputs": [],
   "source": [
    "## Conclusions - Both statistical tests resulted in p-values which exceeded our alpha = 0.05.\n",
    "##\n",
    "## We observed no statistically significant difference in median or mean mental health severity score \n",
    "## of the US and non-US populations.\n",
    "##\n",
    "## Future examinations of similar data to answer questions related to mental health can be improved by -\n",
    "## - ensuring that samples are more randomly collected rather than non-random surveys\n",
    "## - establishing a higher-quality metric whose distribution and/or normality are known"
   ]
  }
 ],
 "metadata": {
  "kernelspec": {
   "display_name": "Python 3 (ipykernel)",
   "language": "python",
   "name": "python3"
  },
  "language_info": {
   "codemirror_mode": {
    "name": "ipython",
    "version": 3
   },
   "file_extension": ".py",
   "mimetype": "text/x-python",
   "name": "python",
   "nbconvert_exporter": "python",
   "pygments_lexer": "ipython3",
   "version": "3.12.4"
  }
 },
 "nbformat": 4,
 "nbformat_minor": 5
}
